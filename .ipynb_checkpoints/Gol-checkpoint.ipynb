{
 "cells": [
  {
   "cell_type": "markdown",
   "metadata": {
    "id": "ZS6-K40a6RD1"
   },
   "source": [
    "# <font color='blue'>Processo Seletivo Gol</font>\n"
   ]
  },
  {
   "cell_type": "code",
   "execution_count": null,
   "metadata": {
    "id": "gwC0kK6Z6RD6"
   },
   "outputs": [],
   "source": [
    "import sklearn as sk\n",
    "import numpy as np\n",
    "import pandas as pd\n",
    "import warnings\n",
    "warnings.filterwarnings(\"ignore\")\n",
    "from IPython.core.pylabtools import figsize\n",
    "from IPython.display import display, HTML\n",
    "import matplotlib.pyplot as plt\n",
    "pd.set_option('display.max_columns', 200) \n",
    "pd.set_option('display.max_rows', 200)\n",
    "pd.set_option('precision', 2)\n",
    "import datetime\n",
    "import gc\n",
    "import seaborn as sns\n",
    "from fbprophet import Prophet\n",
    "import numpy as np\n",
    "\n",
    "from sklearn import preprocessing\n",
    "from sklearn.model_selection import train_test_split\n",
    "from sklearn.preprocessing import scale, MinMaxScaler, StandardScaler\n",
    "from sklearn.ensemble import RandomForestRegressor\n",
    "from sklearn.tree import DecisionTreeRegressor\n",
    "from sklearn.neighbors import KNeighborsRegressor\n",
    "from sklearn.ensemble import ExtraTreesRegressor\n",
    "from sklearn.metrics import r2_score\n",
    "from sklearn import preprocessing"
   ]
  },
  {
   "cell_type": "code",
   "execution_count": null,
   "metadata": {
    "colab": {
     "base_uri": "https://localhost:8080/"
    },
    "id": "ToMjYKH9NxWi",
    "outputId": "8a7a6bf9-9321-42ca-c267-e0991b2b7154"
   },
   "outputs": [
    {
     "name": "stdout",
     "output_type": "stream",
     "text": [
      "Drive already mounted at /content/drive; to attempt to forcibly remount, call drive.mount(\"/content/drive\", force_remount=True).\n"
     ]
    }
   ],
   "source": [
    "from google.colab import drive\n",
    "drive.mount('/content/drive')"
   ]
  },
  {
   "cell_type": "markdown",
   "metadata": {
    "id": "5Tf4OvUK6REG"
   },
   "source": [
    "## Extraindo e Carregando os Dados"
   ]
  },
  {
   "cell_type": "code",
   "execution_count": null,
   "metadata": {
    "id": "xyuSlMY2a3jB"
   },
   "outputs": [],
   "source": [
    "# Função que identifica linhas com dados ausentes\n",
    "# Retorna as linhas e percentuais em cada coluna\n",
    "#\n",
    "def missing_zero_values_table(df):\n",
    "        zero_val = (df == 0.00).astype(int).sum(axis=0)\n",
    "        mis_val = df.isnull().sum()\n",
    "        mis_val_percent = 100 * df.isnull().sum() / len(df)\n",
    "        mz_table = pd.concat([zero_val, mis_val, mis_val_percent], axis=1)\n",
    "        mz_table = mz_table.rename(\n",
    "        columns = {0 : 'Zero Values', 1 : 'Missing Values', 2 : '% of Total Values'})\n",
    "        mz_table['Total Zero Missing Values'] = mz_table['Zero Values'] + mz_table['Missing Values']\n",
    "        mz_table['% Total Zero Missing Values'] = 100 * mz_table['Total Zero Missing Values'] / len(df)\n",
    "        mz_table['Data Type'] = df.dtypes\n",
    "        mz_table = mz_table[mz_table.iloc[:,1] != 0].sort_values('% of Total Values', ascending=False).round(1)\n",
    "        print (\"Your selected dataframe has \" + str(df.shape[1]) + \" columns and \" + str(df.shape[0]) + \" Rows.\\n\"      \n",
    "            \"There are \" + str(mz_table.shape[0]) + \" columns that have missing values.\")\n",
    "        return mz_table"
   ]
  },
  {
   "cell_type": "code",
   "execution_count": null,
   "metadata": {
    "id": "hB2ORPupBd6E"
   },
   "outputs": [],
   "source": [
    "# Função que remove dados considerados outliers\n",
    "# Acima dos limites superiores e inferiores\n",
    "#\n",
    "def remove_outlier(df, col):  \n",
    "    _std = round(df[col].std(), 5)\n",
    "    _mean= round(df[col].mean(), 5)    \n",
    "    _min = round(_mean - df[col].std()*3, 5)\n",
    "    _max = round(_mean + df[col].std()*3, 5)\n",
    "  \n",
    "    df.loc[(df[col] < _min) | (df[col] > _max)] = _mean\n",
    "    df[col] = round(df[col], 5)"
   ]
  },
  {
   "cell_type": "markdown",
   "metadata": {
    "id": "vxlhR0AF6REb"
   },
   "source": [
    "## Análise Exploratória de Dados"
   ]
  },
  {
   "cell_type": "code",
   "execution_count": null,
   "metadata": {
    "id": "hH6Md0hj6REI"
   },
   "outputs": [],
   "source": [
    "# Carregando arquivo csv\n",
    "gol= '/content/drive/MyDrive/Colab Notebooks/Dataset/Gol/case_analytics-ds.csv'\n",
    "\n",
    "\n",
    "df = pd.read_csv(gol, encoding=\"latin\")"
   ]
  },
  {
   "cell_type": "code",
   "execution_count": null,
   "metadata": {
    "colab": {
     "base_uri": "https://localhost:8080/"
    },
    "id": "RO3Q2eFZ4VMa",
    "outputId": "3dbad32e-22cd-4e61-da11-df68b5cefe85"
   },
   "outputs": [
    {
     "data": {
      "text/plain": [
       "(2432, 6)"
      ]
     },
     "execution_count": 265,
     "metadata": {
      "tags": []
     },
     "output_type": "execute_result"
    }
   ],
   "source": [
    "df.shape"
   ]
  },
  {
   "cell_type": "code",
   "execution_count": null,
   "metadata": {
    "colab": {
     "base_uri": "https://localhost:8080/",
     "height": 204
    },
    "id": "VTqALKWy6REn",
    "outputId": "2f194f0d-a822-4112-b395-b8439620a0af"
   },
   "outputs": [
    {
     "data": {
      "text/html": [
       "<div>\n",
       "<style scoped>\n",
       "    .dataframe tbody tr th:only-of-type {\n",
       "        vertical-align: middle;\n",
       "    }\n",
       "\n",
       "    .dataframe tbody tr th {\n",
       "        vertical-align: top;\n",
       "    }\n",
       "\n",
       "    .dataframe thead th {\n",
       "        text-align: right;\n",
       "    }\n",
       "</style>\n",
       "<table border=\"1\" class=\"dataframe\">\n",
       "  <thead>\n",
       "    <tr style=\"text-align: right;\">\n",
       "      <th></th>\n",
       "      <th>Data Venda</th>\n",
       "      <th>Canal de Venda</th>\n",
       "      <th>Local de Venda</th>\n",
       "      <th>PAX</th>\n",
       "      <th>Monetário Vendido</th>\n",
       "      <th>RPK</th>\n",
       "    </tr>\n",
       "  </thead>\n",
       "  <tbody>\n",
       "    <tr>\n",
       "      <th>0</th>\n",
       "      <td>11/1/2016</td>\n",
       "      <td>Telégrafo</td>\n",
       "      <td>Mindscape</td>\n",
       "      <td>30</td>\n",
       "      <td>R$ 2,188.11</td>\n",
       "      <td>3476</td>\n",
       "    </tr>\n",
       "    <tr>\n",
       "      <th>1</th>\n",
       "      <td>11/1/2016</td>\n",
       "      <td>TeleVenda</td>\n",
       "      <td>Arena</td>\n",
       "      <td>52</td>\n",
       "      <td>R$ 3,302.38</td>\n",
       "      <td>8197</td>\n",
       "    </tr>\n",
       "    <tr>\n",
       "      <th>2</th>\n",
       "      <td>11/1/2016</td>\n",
       "      <td>TeleVenda</td>\n",
       "      <td>Mindscape</td>\n",
       "      <td>19</td>\n",
       "      <td>R$ 1,041.54</td>\n",
       "      <td>2425</td>\n",
       "    </tr>\n",
       "    <tr>\n",
       "      <th>3</th>\n",
       "      <td>11/1/2016</td>\n",
       "      <td>Porta a Porta</td>\n",
       "      <td>Mindscape</td>\n",
       "      <td>496</td>\n",
       "      <td>R$ 15,566.34</td>\n",
       "      <td>53278</td>\n",
       "    </tr>\n",
       "    <tr>\n",
       "      <th>4</th>\n",
       "      <td>11/1/2016</td>\n",
       "      <td>TeleVenda</td>\n",
       "      <td>Vast</td>\n",
       "      <td>46</td>\n",
       "      <td>R$ 2,721.43</td>\n",
       "      <td>2039</td>\n",
       "    </tr>\n",
       "  </tbody>\n",
       "</table>\n",
       "</div>"
      ],
      "text/plain": [
       "  Data Venda Canal de Venda Local de Venda  PAX Monetário Vendido    RPK\n",
       "0  11/1/2016      Telégrafo      Mindscape   30       R$ 2,188.11   3476\n",
       "1  11/1/2016      TeleVenda          Arena   52       R$ 3,302.38   8197\n",
       "2  11/1/2016      TeleVenda      Mindscape   19       R$ 1,041.54   2425\n",
       "3  11/1/2016  Porta a Porta      Mindscape  496      R$ 15,566.34  53278\n",
       "4  11/1/2016      TeleVenda           Vast   46       R$ 2,721.43   2039"
      ]
     },
     "execution_count": 266,
     "metadata": {
      "tags": []
     },
     "output_type": "execute_result"
    }
   ],
   "source": [
    "# Visualizando as primeiras linhas\n",
    "df.head()"
   ]
  },
  {
   "cell_type": "markdown",
   "metadata": {
    "id": "53wgl6uRs5pG"
   },
   "source": [
    "### Identificando dados ausentes no dataset"
   ]
  },
  {
   "cell_type": "code",
   "execution_count": null,
   "metadata": {
    "colab": {
     "base_uri": "https://localhost:8080/",
     "height": 83
    },
    "id": "oZqJQsCsd0xv",
    "outputId": "e9cf6389-93d1-4f8b-f994-9e0e4869862c"
   },
   "outputs": [
    {
     "name": "stdout",
     "output_type": "stream",
     "text": [
      "Your selected dataframe has 6 columns and 2432 Rows.\n",
      "There are 0 columns that have missing values.\n"
     ]
    },
    {
     "data": {
      "text/html": [
       "<div>\n",
       "<style scoped>\n",
       "    .dataframe tbody tr th:only-of-type {\n",
       "        vertical-align: middle;\n",
       "    }\n",
       "\n",
       "    .dataframe tbody tr th {\n",
       "        vertical-align: top;\n",
       "    }\n",
       "\n",
       "    .dataframe thead th {\n",
       "        text-align: right;\n",
       "    }\n",
       "</style>\n",
       "<table border=\"1\" class=\"dataframe\">\n",
       "  <thead>\n",
       "    <tr style=\"text-align: right;\">\n",
       "      <th></th>\n",
       "      <th>Zero Values</th>\n",
       "      <th>Missing Values</th>\n",
       "      <th>% of Total Values</th>\n",
       "      <th>Total Zero Missing Values</th>\n",
       "      <th>% Total Zero Missing Values</th>\n",
       "      <th>Data Type</th>\n",
       "    </tr>\n",
       "  </thead>\n",
       "  <tbody>\n",
       "  </tbody>\n",
       "</table>\n",
       "</div>"
      ],
      "text/plain": [
       "Empty DataFrame\n",
       "Columns: [Zero Values, Missing Values, % of Total Values, Total Zero Missing Values, % Total Zero Missing Values, Data Type]\n",
       "Index: []"
      ]
     },
     "execution_count": 267,
     "metadata": {
      "tags": []
     },
     "output_type": "execute_result"
    }
   ],
   "source": [
    "missing_zero_values_table(df)"
   ]
  },
  {
   "cell_type": "code",
   "execution_count": null,
   "metadata": {
    "colab": {
     "base_uri": "https://localhost:8080/"
    },
    "id": "P629roakar0W",
    "outputId": "87c68a73-ca87-4c40-d476-19ce035a7571"
   },
   "outputs": [
    {
     "data": {
      "text/plain": [
       "Data Venda           0\n",
       "Canal de Venda       0\n",
       "Local de Venda       0\n",
       "PAX                  0\n",
       "Monetário Vendido    0\n",
       "RPK                  0\n",
       "dtype: int64"
      ]
     },
     "execution_count": 268,
     "metadata": {
      "tags": []
     },
     "output_type": "execute_result"
    }
   ],
   "source": [
    "df.isnull().sum()"
   ]
  },
  {
   "cell_type": "markdown",
   "metadata": {
    "id": "poOb60f_tI1X"
   },
   "source": [
    "### Identificando o tipo dos dados\r\n",
    "### Algumas limpezas e conversões são necessárias"
   ]
  },
  {
   "cell_type": "code",
   "execution_count": null,
   "metadata": {
    "colab": {
     "base_uri": "https://localhost:8080/"
    },
    "id": "1X3YIDYDuNVa",
    "outputId": "9040b4a2-9f8d-498f-c05e-ef5022e01649"
   },
   "outputs": [
    {
     "name": "stdout",
     "output_type": "stream",
     "text": [
      "<class 'pandas.core.frame.DataFrame'>\n",
      "RangeIndex: 2432 entries, 0 to 2431\n",
      "Data columns (total 6 columns):\n",
      " #   Column             Non-Null Count  Dtype \n",
      "---  ------             --------------  ----- \n",
      " 0   Data Venda         2432 non-null   object\n",
      " 1   Canal de Venda     2432 non-null   object\n",
      " 2   Local de Venda     2432 non-null   object\n",
      " 3   PAX                2432 non-null   int64 \n",
      " 4   Monetário Vendido  2432 non-null   object\n",
      " 5   RPK                2432 non-null   int64 \n",
      "dtypes: int64(2), object(4)\n",
      "memory usage: 114.1+ KB\n"
     ]
    }
   ],
   "source": [
    "df.info()"
   ]
  },
  {
   "cell_type": "markdown",
   "metadata": {
    "id": "p4xppBnIuKH7"
   },
   "source": [
    "### Coluna 'Monetário Vendido' tem caracteres extra removidos\r\n",
    "### Tipo da coluna é alterada"
   ]
  },
  {
   "cell_type": "code",
   "execution_count": null,
   "metadata": {
    "id": "d1AtsjaLYjiP"
   },
   "outputs": [],
   "source": [
    "temp = df['Monetário Vendido'].str.replace('R\\$', '')\r\n",
    "temp = temp.str.replace(',', '')\r\n",
    "df['Monetário Vendido'] = temp\r\n",
    "df['Monetário Vendido'] = df['Monetário Vendido'].astype('float64')\r\n"
   ]
  },
  {
   "cell_type": "markdown",
   "metadata": {
    "id": "9Bx2fiIPugit"
   },
   "source": [
    "### Coluna 'Data Venda' tem tipo alterada para data"
   ]
  },
  {
   "cell_type": "code",
   "execution_count": null,
   "metadata": {
    "id": "EiPgrpvrge_e"
   },
   "outputs": [],
   "source": [
    "df['Data Venda'] = pd.to_datetime(df['Data Venda'], format='%m/%d/%Y')"
   ]
  },
  {
   "cell_type": "code",
   "execution_count": null,
   "metadata": {
    "colab": {
     "base_uri": "https://localhost:8080/"
    },
    "id": "QsEOqrpilXtc",
    "outputId": "ae9add5e-5a15-4881-cae2-05c3cc76568f"
   },
   "outputs": [
    {
     "name": "stdout",
     "output_type": "stream",
     "text": [
      "<class 'pandas.core.frame.DataFrame'>\n",
      "RangeIndex: 2432 entries, 0 to 2431\n",
      "Data columns (total 6 columns):\n",
      " #   Column             Non-Null Count  Dtype         \n",
      "---  ------             --------------  -----         \n",
      " 0   Data Venda         2432 non-null   datetime64[ns]\n",
      " 1   Canal de Venda     2432 non-null   object        \n",
      " 2   Local de Venda     2432 non-null   object        \n",
      " 3   PAX                2432 non-null   int64         \n",
      " 4   Monetário Vendido  2432 non-null   float64       \n",
      " 5   RPK                2432 non-null   int64         \n",
      "dtypes: datetime64[ns](1), float64(1), int64(2), object(2)\n",
      "memory usage: 114.1+ KB\n"
     ]
    }
   ],
   "source": [
    "df.info()"
   ]
  },
  {
   "cell_type": "markdown",
   "metadata": {
    "id": "bE4Ycg6Dusw7"
   },
   "source": [
    "### A partir da coluna 'Data Venda' são extraidos:\r\n",
    "### Ano, Mes e Dia"
   ]
  },
  {
   "cell_type": "code",
   "execution_count": null,
   "metadata": {
    "id": "ICP1kiSRiYXx"
   },
   "outputs": [],
   "source": [
    "df['Ano'] = df['Data Venda'].dt.year\r\n",
    "#\r\n",
    "df['Mês'] = df['Data Venda'].dt.month\r\n",
    "#\r\n",
    "df['Dia_do_Mês'] = df['Data Venda'].dt.day\r\n",
    "#\r\n",
    "df['Dia_da_Semana'] = df['Data Venda'].dt.day_name()\r\n",
    "df['Dia_da_Semana_Numero'] = df['Data Venda'].dt.dayofweek\r\n",
    "df['Nome_do_Dia'] = df['Dia_da_Semana']\r\n",
    "df[\"Nome_do_Dia\"].replace({\"Sunday\": \"Domingo\", \"Monday\": \"Segunda\",\r\n",
    "                             \"Tuesday\": \"Terça\", \"Wednesday\": \"Quarta\",\r\n",
    "                             \"Thursday\": \"Quinta\", 'Friday': \"Sexta\",\r\n",
    "                             'Saturday': \"Sabado\"}, inplace=True)\r\n",
    "del df['Dia_da_Semana']"
   ]
  },
  {
   "cell_type": "markdown",
   "metadata": {
    "id": "MSd6o9szvBPQ"
   },
   "source": [
    "### Dataset tem agora novas colunas e tipos alterados"
   ]
  },
  {
   "cell_type": "code",
   "execution_count": null,
   "metadata": {
    "colab": {
     "base_uri": "https://localhost:8080/",
     "height": 419
    },
    "id": "62Mtm0GVlBf5",
    "outputId": "a26dd01f-a317-457a-f7ee-6e4fd33b0fea"
   },
   "outputs": [
    {
     "data": {
      "text/html": [
       "<div>\n",
       "<style scoped>\n",
       "    .dataframe tbody tr th:only-of-type {\n",
       "        vertical-align: middle;\n",
       "    }\n",
       "\n",
       "    .dataframe tbody tr th {\n",
       "        vertical-align: top;\n",
       "    }\n",
       "\n",
       "    .dataframe thead th {\n",
       "        text-align: right;\n",
       "    }\n",
       "</style>\n",
       "<table border=\"1\" class=\"dataframe\">\n",
       "  <thead>\n",
       "    <tr style=\"text-align: right;\">\n",
       "      <th></th>\n",
       "      <th>Data Venda</th>\n",
       "      <th>Canal de Venda</th>\n",
       "      <th>Local de Venda</th>\n",
       "      <th>PAX</th>\n",
       "      <th>Monetário Vendido</th>\n",
       "      <th>RPK</th>\n",
       "      <th>Ano</th>\n",
       "      <th>Mês</th>\n",
       "      <th>Dia_do_Mês</th>\n",
       "      <th>Dia_da_Semana_Numero</th>\n",
       "      <th>Nome_do_Dia</th>\n",
       "    </tr>\n",
       "  </thead>\n",
       "  <tbody>\n",
       "    <tr>\n",
       "      <th>0</th>\n",
       "      <td>2016-11-01</td>\n",
       "      <td>Telégrafo</td>\n",
       "      <td>Mindscape</td>\n",
       "      <td>30</td>\n",
       "      <td>2188.11</td>\n",
       "      <td>3476</td>\n",
       "      <td>2016</td>\n",
       "      <td>11</td>\n",
       "      <td>1</td>\n",
       "      <td>1</td>\n",
       "      <td>Terça</td>\n",
       "    </tr>\n",
       "    <tr>\n",
       "      <th>1</th>\n",
       "      <td>2016-11-01</td>\n",
       "      <td>TeleVenda</td>\n",
       "      <td>Arena</td>\n",
       "      <td>52</td>\n",
       "      <td>3302.38</td>\n",
       "      <td>8197</td>\n",
       "      <td>2016</td>\n",
       "      <td>11</td>\n",
       "      <td>1</td>\n",
       "      <td>1</td>\n",
       "      <td>Terça</td>\n",
       "    </tr>\n",
       "    <tr>\n",
       "      <th>2</th>\n",
       "      <td>2016-11-01</td>\n",
       "      <td>TeleVenda</td>\n",
       "      <td>Mindscape</td>\n",
       "      <td>19</td>\n",
       "      <td>1041.54</td>\n",
       "      <td>2425</td>\n",
       "      <td>2016</td>\n",
       "      <td>11</td>\n",
       "      <td>1</td>\n",
       "      <td>1</td>\n",
       "      <td>Terça</td>\n",
       "    </tr>\n",
       "    <tr>\n",
       "      <th>3</th>\n",
       "      <td>2016-11-01</td>\n",
       "      <td>Porta a Porta</td>\n",
       "      <td>Mindscape</td>\n",
       "      <td>496</td>\n",
       "      <td>15566.34</td>\n",
       "      <td>53278</td>\n",
       "      <td>2016</td>\n",
       "      <td>11</td>\n",
       "      <td>1</td>\n",
       "      <td>1</td>\n",
       "      <td>Terça</td>\n",
       "    </tr>\n",
       "    <tr>\n",
       "      <th>4</th>\n",
       "      <td>2016-11-01</td>\n",
       "      <td>TeleVenda</td>\n",
       "      <td>Vast</td>\n",
       "      <td>46</td>\n",
       "      <td>2721.43</td>\n",
       "      <td>2039</td>\n",
       "      <td>2016</td>\n",
       "      <td>11</td>\n",
       "      <td>1</td>\n",
       "      <td>1</td>\n",
       "      <td>Terça</td>\n",
       "    </tr>\n",
       "    <tr>\n",
       "      <th>...</th>\n",
       "      <td>...</td>\n",
       "      <td>...</td>\n",
       "      <td>...</td>\n",
       "      <td>...</td>\n",
       "      <td>...</td>\n",
       "      <td>...</td>\n",
       "      <td>...</td>\n",
       "      <td>...</td>\n",
       "      <td>...</td>\n",
       "      <td>...</td>\n",
       "      <td>...</td>\n",
       "    </tr>\n",
       "    <tr>\n",
       "      <th>2427</th>\n",
       "      <td>2017-04-01</td>\n",
       "      <td>Porta a Porta</td>\n",
       "      <td>Vast</td>\n",
       "      <td>1079</td>\n",
       "      <td>28486.40</td>\n",
       "      <td>54551</td>\n",
       "      <td>2017</td>\n",
       "      <td>4</td>\n",
       "      <td>1</td>\n",
       "      <td>5</td>\n",
       "      <td>Sabado</td>\n",
       "    </tr>\n",
       "    <tr>\n",
       "      <th>2428</th>\n",
       "      <td>2017-04-01</td>\n",
       "      <td>Porta a Porta</td>\n",
       "      <td>Ellipsis</td>\n",
       "      <td>841</td>\n",
       "      <td>23601.00</td>\n",
       "      <td>46988</td>\n",
       "      <td>2017</td>\n",
       "      <td>4</td>\n",
       "      <td>1</td>\n",
       "      <td>5</td>\n",
       "      <td>Sabado</td>\n",
       "    </tr>\n",
       "    <tr>\n",
       "      <th>2429</th>\n",
       "      <td>2017-04-01</td>\n",
       "      <td>TeleVenda</td>\n",
       "      <td>Arena</td>\n",
       "      <td>175</td>\n",
       "      <td>10270.29</td>\n",
       "      <td>26599</td>\n",
       "      <td>2017</td>\n",
       "      <td>4</td>\n",
       "      <td>1</td>\n",
       "      <td>5</td>\n",
       "      <td>Sabado</td>\n",
       "    </tr>\n",
       "    <tr>\n",
       "      <th>2430</th>\n",
       "      <td>2017-04-01</td>\n",
       "      <td>Telégrafo</td>\n",
       "      <td>Arena</td>\n",
       "      <td>105</td>\n",
       "      <td>5470.41</td>\n",
       "      <td>15130</td>\n",
       "      <td>2017</td>\n",
       "      <td>4</td>\n",
       "      <td>1</td>\n",
       "      <td>5</td>\n",
       "      <td>Sabado</td>\n",
       "    </tr>\n",
       "    <tr>\n",
       "      <th>2431</th>\n",
       "      <td>2017-04-01</td>\n",
       "      <td>Telégrafo</td>\n",
       "      <td>Vast</td>\n",
       "      <td>61</td>\n",
       "      <td>2911.98</td>\n",
       "      <td>3050</td>\n",
       "      <td>2017</td>\n",
       "      <td>4</td>\n",
       "      <td>1</td>\n",
       "      <td>5</td>\n",
       "      <td>Sabado</td>\n",
       "    </tr>\n",
       "  </tbody>\n",
       "</table>\n",
       "<p>2432 rows × 11 columns</p>\n",
       "</div>"
      ],
      "text/plain": [
       "     Data Venda Canal de Venda Local de Venda   PAX  Monetário Vendido    RPK  \\\n",
       "0    2016-11-01      Telégrafo      Mindscape    30            2188.11   3476   \n",
       "1    2016-11-01      TeleVenda          Arena    52            3302.38   8197   \n",
       "2    2016-11-01      TeleVenda      Mindscape    19            1041.54   2425   \n",
       "3    2016-11-01  Porta a Porta      Mindscape   496           15566.34  53278   \n",
       "4    2016-11-01      TeleVenda           Vast    46            2721.43   2039   \n",
       "...         ...            ...            ...   ...                ...    ...   \n",
       "2427 2017-04-01  Porta a Porta           Vast  1079           28486.40  54551   \n",
       "2428 2017-04-01  Porta a Porta       Ellipsis   841           23601.00  46988   \n",
       "2429 2017-04-01      TeleVenda          Arena   175           10270.29  26599   \n",
       "2430 2017-04-01      Telégrafo          Arena   105            5470.41  15130   \n",
       "2431 2017-04-01      Telégrafo           Vast    61            2911.98   3050   \n",
       "\n",
       "       Ano  Mês  Dia_do_Mês  Dia_da_Semana_Numero Nome_do_Dia  \n",
       "0     2016   11           1                     1       Terça  \n",
       "1     2016   11           1                     1       Terça  \n",
       "2     2016   11           1                     1       Terça  \n",
       "3     2016   11           1                     1       Terça  \n",
       "4     2016   11           1                     1       Terça  \n",
       "...    ...  ...         ...                   ...         ...  \n",
       "2427  2017    4           1                     5      Sabado  \n",
       "2428  2017    4           1                     5      Sabado  \n",
       "2429  2017    4           1                     5      Sabado  \n",
       "2430  2017    4           1                     5      Sabado  \n",
       "2431  2017    4           1                     5      Sabado  \n",
       "\n",
       "[2432 rows x 11 columns]"
      ]
     },
     "execution_count": 274,
     "metadata": {
      "tags": []
     },
     "output_type": "execute_result"
    }
   ],
   "source": [
    "df"
   ]
  },
  {
   "cell_type": "code",
   "execution_count": null,
   "metadata": {
    "colab": {
     "base_uri": "https://localhost:8080/"
    },
    "id": "OGxLOxZTd_8G",
    "outputId": "0164c0af-fca8-4569-d479-3f25e796fbd8"
   },
   "outputs": [
    {
     "name": "stdout",
     "output_type": "stream",
     "text": [
      "<class 'pandas.core.frame.DataFrame'>\n",
      "RangeIndex: 2432 entries, 0 to 2431\n",
      "Data columns (total 11 columns):\n",
      " #   Column                Non-Null Count  Dtype         \n",
      "---  ------                --------------  -----         \n",
      " 0   Data Venda            2432 non-null   datetime64[ns]\n",
      " 1   Canal de Venda        2432 non-null   object        \n",
      " 2   Local de Venda        2432 non-null   object        \n",
      " 3   PAX                   2432 non-null   int64         \n",
      " 4   Monetário Vendido     2432 non-null   float64       \n",
      " 5   RPK                   2432 non-null   int64         \n",
      " 6   Ano                   2432 non-null   int64         \n",
      " 7   Mês                   2432 non-null   int64         \n",
      " 8   Dia_do_Mês            2432 non-null   int64         \n",
      " 9   Dia_da_Semana_Numero  2432 non-null   int64         \n",
      " 10  Nome_do_Dia           2432 non-null   object        \n",
      "dtypes: datetime64[ns](1), float64(1), int64(6), object(3)\n",
      "memory usage: 209.1+ KB\n"
     ]
    }
   ],
   "source": [
    "df.info()"
   ]
  },
  {
   "cell_type": "markdown",
   "metadata": {
    "id": "ktmnoyl-vQkX"
   },
   "source": [
    "### Estatistica Descritiva permite conhecer melhor os dados em cada coluna numérica"
   ]
  },
  {
   "cell_type": "code",
   "execution_count": null,
   "metadata": {
    "colab": {
     "base_uri": "https://localhost:8080/",
     "height": 266
    },
    "id": "WPT1E1VM6QUy",
    "outputId": "76d8b09e-c0db-4f56-f745-0357d2897498"
   },
   "outputs": [
    {
     "data": {
      "text/html": [
       "<div>\n",
       "<style scoped>\n",
       "    .dataframe tbody tr th:only-of-type {\n",
       "        vertical-align: middle;\n",
       "    }\n",
       "\n",
       "    .dataframe tbody tr th {\n",
       "        vertical-align: top;\n",
       "    }\n",
       "\n",
       "    .dataframe thead th {\n",
       "        text-align: right;\n",
       "    }\n",
       "</style>\n",
       "<table border=\"1\" class=\"dataframe\">\n",
       "  <thead>\n",
       "    <tr style=\"text-align: right;\">\n",
       "      <th></th>\n",
       "      <th>count</th>\n",
       "      <th>mean</th>\n",
       "      <th>std</th>\n",
       "      <th>min</th>\n",
       "      <th>25%</th>\n",
       "      <th>50%</th>\n",
       "      <th>75%</th>\n",
       "      <th>max</th>\n",
       "    </tr>\n",
       "  </thead>\n",
       "  <tbody>\n",
       "    <tr>\n",
       "      <th>PAX</th>\n",
       "      <td>2432.0</td>\n",
       "      <td>723.00</td>\n",
       "      <td>735.94</td>\n",
       "      <td>18.00</td>\n",
       "      <td>100.00</td>\n",
       "      <td>395.50</td>\n",
       "      <td>1160.25</td>\n",
       "      <td>4705.00</td>\n",
       "    </tr>\n",
       "    <tr>\n",
       "      <th>Monetário Vendido</th>\n",
       "      <td>2432.0</td>\n",
       "      <td>24638.74</td>\n",
       "      <td>22424.84</td>\n",
       "      <td>1041.54</td>\n",
       "      <td>6122.92</td>\n",
       "      <td>17755.42</td>\n",
       "      <td>35535.33</td>\n",
       "      <td>144890.73</td>\n",
       "    </tr>\n",
       "    <tr>\n",
       "      <th>RPK</th>\n",
       "      <td>2432.0</td>\n",
       "      <td>66738.39</td>\n",
       "      <td>83479.04</td>\n",
       "      <td>1127.00</td>\n",
       "      <td>11372.00</td>\n",
       "      <td>33361.50</td>\n",
       "      <td>95116.75</td>\n",
       "      <td>695824.00</td>\n",
       "    </tr>\n",
       "    <tr>\n",
       "      <th>Ano</th>\n",
       "      <td>2432.0</td>\n",
       "      <td>2016.60</td>\n",
       "      <td>0.49</td>\n",
       "      <td>2016.00</td>\n",
       "      <td>2016.00</td>\n",
       "      <td>2017.00</td>\n",
       "      <td>2017.00</td>\n",
       "      <td>2017.00</td>\n",
       "    </tr>\n",
       "    <tr>\n",
       "      <th>Mês</th>\n",
       "      <td>2432.0</td>\n",
       "      <td>5.83</td>\n",
       "      <td>4.71</td>\n",
       "      <td>1.00</td>\n",
       "      <td>2.00</td>\n",
       "      <td>3.00</td>\n",
       "      <td>11.00</td>\n",
       "      <td>12.00</td>\n",
       "    </tr>\n",
       "    <tr>\n",
       "      <th>Dia_do_Mês</th>\n",
       "      <td>2432.0</td>\n",
       "      <td>15.53</td>\n",
       "      <td>8.80</td>\n",
       "      <td>1.00</td>\n",
       "      <td>8.00</td>\n",
       "      <td>15.50</td>\n",
       "      <td>23.00</td>\n",
       "      <td>31.00</td>\n",
       "    </tr>\n",
       "    <tr>\n",
       "      <th>Dia_da_Semana_Numero</th>\n",
       "      <td>2432.0</td>\n",
       "      <td>3.00</td>\n",
       "      <td>1.98</td>\n",
       "      <td>0.00</td>\n",
       "      <td>1.00</td>\n",
       "      <td>3.00</td>\n",
       "      <td>5.00</td>\n",
       "      <td>6.00</td>\n",
       "    </tr>\n",
       "  </tbody>\n",
       "</table>\n",
       "</div>"
      ],
      "text/plain": [
       "                       count      mean       std      min       25%       50%  \\\n",
       "PAX                   2432.0    723.00    735.94    18.00    100.00    395.50   \n",
       "Monetário Vendido     2432.0  24638.74  22424.84  1041.54   6122.92  17755.42   \n",
       "RPK                   2432.0  66738.39  83479.04  1127.00  11372.00  33361.50   \n",
       "Ano                   2432.0   2016.60      0.49  2016.00   2016.00   2017.00   \n",
       "Mês                   2432.0      5.83      4.71     1.00      2.00      3.00   \n",
       "Dia_do_Mês            2432.0     15.53      8.80     1.00      8.00     15.50   \n",
       "Dia_da_Semana_Numero  2432.0      3.00      1.98     0.00      1.00      3.00   \n",
       "\n",
       "                           75%        max  \n",
       "PAX                    1160.25    4705.00  \n",
       "Monetário Vendido     35535.33  144890.73  \n",
       "RPK                   95116.75  695824.00  \n",
       "Ano                    2017.00    2017.00  \n",
       "Mês                      11.00      12.00  \n",
       "Dia_do_Mês               23.00      31.00  \n",
       "Dia_da_Semana_Numero      5.00       6.00  "
      ]
     },
     "execution_count": 276,
     "metadata": {
      "tags": []
     },
     "output_type": "execute_result"
    }
   ],
   "source": [
    "# Apenas dos valores numéricos\r\n",
    "df.describe().T"
   ]
  },
  {
   "cell_type": "markdown",
   "metadata": {
    "id": "T5_6rA3Nvoc9"
   },
   "source": [
    "### Contagem de linhas do dataset por tipo de Canal de Venda"
   ]
  },
  {
   "cell_type": "code",
   "execution_count": null,
   "metadata": {
    "colab": {
     "base_uri": "https://localhost:8080/"
    },
    "id": "rMWD5YoPdcU8",
    "outputId": "36163cd9-3f08-4c09-a86f-ecce37256d3e"
   },
   "outputs": [
    {
     "data": {
      "text/plain": [
       "TeleVenda        1216\n",
       "Porta a Porta     608\n",
       "Telégrafo         608\n",
       "Name: Canal de Venda, dtype: int64"
      ]
     },
     "execution_count": 277,
     "metadata": {
      "tags": []
     },
     "output_type": "execute_result"
    }
   ],
   "source": [
    "df['Canal de Venda'].value_counts()\n"
   ]
  },
  {
   "cell_type": "markdown",
   "metadata": {
    "id": "MJxo_QmhwCrs"
   },
   "source": [
    "### Contagem de linhas do dataset por tipo de Local de Venda"
   ]
  },
  {
   "cell_type": "code",
   "execution_count": null,
   "metadata": {
    "colab": {
     "base_uri": "https://localhost:8080/"
    },
    "id": "wBeod5f7Prv_",
    "outputId": "bd793d9f-7b67-43c1-b293-a8069a518426"
   },
   "outputs": [
    {
     "data": {
      "text/plain": [
       "Mindscape    608\n",
       "Vast         608\n",
       "Arena        608\n",
       "Ellipsis     608\n",
       "Name: Local de Venda, dtype: int64"
      ]
     },
     "execution_count": 278,
     "metadata": {
      "tags": []
     },
     "output_type": "execute_result"
    }
   ],
   "source": [
    "df['Local de Venda'].value_counts()"
   ]
  },
  {
   "cell_type": "markdown",
   "metadata": {
    "id": "TnYYpn1TwaHt"
   },
   "source": [
    "### Contagem de linhas do dataset por Ano"
   ]
  },
  {
   "cell_type": "code",
   "execution_count": null,
   "metadata": {
    "colab": {
     "base_uri": "https://localhost:8080/"
    },
    "id": "2zKubiuKXDg3",
    "outputId": "d27d37d7-2bf3-4698-98aa-858122af25fa"
   },
   "outputs": [
    {
     "data": {
      "text/plain": [
       "2017    1456\n",
       "2016     976\n",
       "Name: Ano, dtype: int64"
      ]
     },
     "execution_count": 279,
     "metadata": {
      "tags": []
     },
     "output_type": "execute_result"
    }
   ],
   "source": [
    "df['Ano'].value_counts()"
   ]
  },
  {
   "cell_type": "markdown",
   "metadata": {
    "id": "Cdr8hSOgwjR6"
   },
   "source": [
    "### Contagem de linhas do dataset por Mês"
   ]
  },
  {
   "cell_type": "code",
   "execution_count": null,
   "metadata": {
    "colab": {
     "base_uri": "https://localhost:8080/"
    },
    "id": "bI2feLJkm6zx",
    "outputId": "842212c5-c9ca-4820-b71a-351a541fe504"
   },
   "outputs": [
    {
     "data": {
      "text/plain": [
       "3     496\n",
       "1     496\n",
       "12    496\n",
       "11    480\n",
       "2     448\n",
       "4      16\n",
       "Name: Mês, dtype: int64"
      ]
     },
     "execution_count": 280,
     "metadata": {
      "tags": []
     },
     "output_type": "execute_result"
    }
   ],
   "source": [
    "df['Mês'].value_counts()"
   ]
  },
  {
   "cell_type": "markdown",
   "metadata": {
    "id": "CsfP3cNzxbeo"
   },
   "source": [
    "### Contagem  de linhas do dataset por Dia"
   ]
  },
  {
   "cell_type": "code",
   "execution_count": null,
   "metadata": {
    "colab": {
     "base_uri": "https://localhost:8080/"
    },
    "id": "PrJKZxpjnLVo",
    "outputId": "31a57ad5-4b3e-402f-a561-f78f71ed282c"
   },
   "outputs": [
    {
     "data": {
      "text/plain": [
       "Sabado     352\n",
       "Quinta     352\n",
       "Terça      352\n",
       "Sexta      352\n",
       "Quarta     352\n",
       "Segunda    336\n",
       "Domingo    336\n",
       "Name: Nome_do_Dia, dtype: int64"
      ]
     },
     "execution_count": 281,
     "metadata": {
      "tags": []
     },
     "output_type": "execute_result"
    }
   ],
   "source": [
    "df['Nome_do_Dia'].value_counts()"
   ]
  },
  {
   "cell_type": "markdown",
   "metadata": {
    "id": "-jnJNDJqp1bm"
   },
   "source": [
    "#### Agrupando por Ano o valor somado da coluna 'Monetário Vendido'"
   ]
  },
  {
   "cell_type": "code",
   "execution_count": null,
   "metadata": {
    "colab": {
     "base_uri": "https://localhost:8080/",
     "height": 142
    },
    "id": "6kkKfwn5nYav",
    "outputId": "f2713b28-a805-4605-b28c-f87eb46a2ef0"
   },
   "outputs": [
    {
     "data": {
      "text/html": [
       "<div>\n",
       "<style scoped>\n",
       "    .dataframe tbody tr th:only-of-type {\n",
       "        vertical-align: middle;\n",
       "    }\n",
       "\n",
       "    .dataframe tbody tr th {\n",
       "        vertical-align: top;\n",
       "    }\n",
       "\n",
       "    .dataframe thead th {\n",
       "        text-align: right;\n",
       "    }\n",
       "</style>\n",
       "<table border=\"1\" class=\"dataframe\">\n",
       "  <thead>\n",
       "    <tr style=\"text-align: right;\">\n",
       "      <th></th>\n",
       "      <th>Monetário Vendido</th>\n",
       "    </tr>\n",
       "    <tr>\n",
       "      <th>Ano</th>\n",
       "      <th></th>\n",
       "    </tr>\n",
       "  </thead>\n",
       "  <tbody>\n",
       "    <tr>\n",
       "      <th>2016</th>\n",
       "      <td>2.33e+07</td>\n",
       "    </tr>\n",
       "    <tr>\n",
       "      <th>2017</th>\n",
       "      <td>3.66e+07</td>\n",
       "    </tr>\n",
       "  </tbody>\n",
       "</table>\n",
       "</div>"
      ],
      "text/plain": [
       "      Monetário Vendido\n",
       "Ano                    \n",
       "2016           2.33e+07\n",
       "2017           3.66e+07"
      ]
     },
     "execution_count": 282,
     "metadata": {
      "tags": []
     },
     "output_type": "execute_result"
    }
   ],
   "source": [
    "df[['Monetário Vendido', 'Ano']].groupby(by =[\"Ano\"]).sum()"
   ]
  },
  {
   "cell_type": "markdown",
   "metadata": {
    "id": "IsZbu165q0uA"
   },
   "source": [
    "#### Agrupando por Mês o valor somado da coluna 'Monetário Vendido'"
   ]
  },
  {
   "cell_type": "code",
   "execution_count": null,
   "metadata": {
    "colab": {
     "base_uri": "https://localhost:8080/",
     "height": 266
    },
    "id": "vZNSx83xqvHI",
    "outputId": "7f141ea4-6dda-4015-d82a-86ee70b2d2f8"
   },
   "outputs": [
    {
     "data": {
      "text/html": [
       "<div>\n",
       "<style scoped>\n",
       "    .dataframe tbody tr th:only-of-type {\n",
       "        vertical-align: middle;\n",
       "    }\n",
       "\n",
       "    .dataframe tbody tr th {\n",
       "        vertical-align: top;\n",
       "    }\n",
       "\n",
       "    .dataframe thead th {\n",
       "        text-align: right;\n",
       "    }\n",
       "</style>\n",
       "<table border=\"1\" class=\"dataframe\">\n",
       "  <thead>\n",
       "    <tr style=\"text-align: right;\">\n",
       "      <th></th>\n",
       "      <th>Monetário Vendido</th>\n",
       "    </tr>\n",
       "    <tr>\n",
       "      <th>Mês</th>\n",
       "      <th></th>\n",
       "    </tr>\n",
       "  </thead>\n",
       "  <tbody>\n",
       "    <tr>\n",
       "      <th>1</th>\n",
       "      <td>1.26e+07</td>\n",
       "    </tr>\n",
       "    <tr>\n",
       "      <th>2</th>\n",
       "      <td>1.12e+07</td>\n",
       "    </tr>\n",
       "    <tr>\n",
       "      <th>3</th>\n",
       "      <td>1.24e+07</td>\n",
       "    </tr>\n",
       "    <tr>\n",
       "      <th>4</th>\n",
       "      <td>4.35e+05</td>\n",
       "    </tr>\n",
       "    <tr>\n",
       "      <th>11</th>\n",
       "      <td>1.21e+07</td>\n",
       "    </tr>\n",
       "    <tr>\n",
       "      <th>12</th>\n",
       "      <td>1.12e+07</td>\n",
       "    </tr>\n",
       "  </tbody>\n",
       "</table>\n",
       "</div>"
      ],
      "text/plain": [
       "     Monetário Vendido\n",
       "Mês                   \n",
       "1             1.26e+07\n",
       "2             1.12e+07\n",
       "3             1.24e+07\n",
       "4             4.35e+05\n",
       "11            1.21e+07\n",
       "12            1.12e+07"
      ]
     },
     "execution_count": 283,
     "metadata": {
      "tags": []
     },
     "output_type": "execute_result"
    }
   ],
   "source": [
    "df[['Monetário Vendido', 'Mês']].groupby(by =[\"Mês\"]).sum()"
   ]
  },
  {
   "cell_type": "markdown",
   "metadata": {
    "id": "8acfBqTQqTlx"
   },
   "source": [
    "#### Agrupando por Canal de Venda o valor da coluna 'Monetário Vendido'"
   ]
  },
  {
   "cell_type": "code",
   "execution_count": null,
   "metadata": {
    "colab": {
     "base_uri": "https://localhost:8080/",
     "height": 173
    },
    "id": "U3rfZnMKp9P5",
    "outputId": "ed2f8737-9b86-4b88-bc6e-598c23758994"
   },
   "outputs": [
    {
     "data": {
      "text/html": [
       "<div>\n",
       "<style scoped>\n",
       "    .dataframe tbody tr th:only-of-type {\n",
       "        vertical-align: middle;\n",
       "    }\n",
       "\n",
       "    .dataframe tbody tr th {\n",
       "        vertical-align: top;\n",
       "    }\n",
       "\n",
       "    .dataframe thead th {\n",
       "        text-align: right;\n",
       "    }\n",
       "</style>\n",
       "<table border=\"1\" class=\"dataframe\">\n",
       "  <thead>\n",
       "    <tr style=\"text-align: right;\">\n",
       "      <th></th>\n",
       "      <th>Monetário Vendido</th>\n",
       "    </tr>\n",
       "    <tr>\n",
       "      <th>Canal de Venda</th>\n",
       "      <th></th>\n",
       "    </tr>\n",
       "  </thead>\n",
       "  <tbody>\n",
       "    <tr>\n",
       "      <th>Porta a Porta</th>\n",
       "      <td>1.91e+07</td>\n",
       "    </tr>\n",
       "    <tr>\n",
       "      <th>TeleVenda</th>\n",
       "      <td>3.80e+07</td>\n",
       "    </tr>\n",
       "    <tr>\n",
       "      <th>Telégrafo</th>\n",
       "      <td>2.79e+06</td>\n",
       "    </tr>\n",
       "  </tbody>\n",
       "</table>\n",
       "</div>"
      ],
      "text/plain": [
       "                Monetário Vendido\n",
       "Canal de Venda                   \n",
       "Porta a Porta            1.91e+07\n",
       "TeleVenda                3.80e+07\n",
       "Telégrafo                2.79e+06"
      ]
     },
     "execution_count": 284,
     "metadata": {
      "tags": []
     },
     "output_type": "execute_result"
    }
   ],
   "source": [
    "df[['Monetário Vendido', 'Canal de Venda']].groupby(by =[\"Canal de Venda\"]).sum()"
   ]
  },
  {
   "cell_type": "markdown",
   "metadata": {
    "id": "1Ar_q2SZqmT1"
   },
   "source": [
    "#### Agrupando por Local de Venda o valor da coluna 'Monetário Vendido'"
   ]
  },
  {
   "cell_type": "code",
   "execution_count": null,
   "metadata": {
    "colab": {
     "base_uri": "https://localhost:8080/",
     "height": 204
    },
    "id": "4SQziMvyqh7_",
    "outputId": "3f55edf9-1cd3-4c6e-c5fe-07a5f62d6235"
   },
   "outputs": [
    {
     "data": {
      "text/html": [
       "<div>\n",
       "<style scoped>\n",
       "    .dataframe tbody tr th:only-of-type {\n",
       "        vertical-align: middle;\n",
       "    }\n",
       "\n",
       "    .dataframe tbody tr th {\n",
       "        vertical-align: top;\n",
       "    }\n",
       "\n",
       "    .dataframe thead th {\n",
       "        text-align: right;\n",
       "    }\n",
       "</style>\n",
       "<table border=\"1\" class=\"dataframe\">\n",
       "  <thead>\n",
       "    <tr style=\"text-align: right;\">\n",
       "      <th></th>\n",
       "      <th>Monetário Vendido</th>\n",
       "    </tr>\n",
       "    <tr>\n",
       "      <th>Local de Venda</th>\n",
       "      <th></th>\n",
       "    </tr>\n",
       "  </thead>\n",
       "  <tbody>\n",
       "    <tr>\n",
       "      <th>Arena</th>\n",
       "      <td>1.92e+07</td>\n",
       "    </tr>\n",
       "    <tr>\n",
       "      <th>Ellipsis</th>\n",
       "      <td>1.12e+07</td>\n",
       "    </tr>\n",
       "    <tr>\n",
       "      <th>Mindscape</th>\n",
       "      <td>1.47e+07</td>\n",
       "    </tr>\n",
       "    <tr>\n",
       "      <th>Vast</th>\n",
       "      <td>1.48e+07</td>\n",
       "    </tr>\n",
       "  </tbody>\n",
       "</table>\n",
       "</div>"
      ],
      "text/plain": [
       "                Monetário Vendido\n",
       "Local de Venda                   \n",
       "Arena                    1.92e+07\n",
       "Ellipsis                 1.12e+07\n",
       "Mindscape                1.47e+07\n",
       "Vast                     1.48e+07"
      ]
     },
     "execution_count": 285,
     "metadata": {
      "tags": []
     },
     "output_type": "execute_result"
    }
   ],
   "source": [
    "df[['Monetário Vendido', 'Local de Venda']].groupby(by =[\"Local de Venda\"]).sum()"
   ]
  },
  {
   "cell_type": "markdown",
   "metadata": {
    "id": "81VAQdGVysZ5"
   },
   "source": [
    "### Distribuição dos dados - histograma\r\n",
    "### Monetário Vendido"
   ]
  },
  {
   "cell_type": "code",
   "execution_count": null,
   "metadata": {
    "colab": {
     "base_uri": "https://localhost:8080/",
     "height": 290
    },
    "id": "j2rbO7ixq7Wp",
    "outputId": "776b15c9-4d61-4adb-9963-da53adb80b57"
   },
   "outputs": [
    {
     "data": {
      "image/png": "[encoded data removed]",
      "text/plain": [
       "<Figure size 432x288 with 1 Axes>"
      ]
     },
     "metadata": {
      "needs_background": "light",
      "tags": []
     },
     "output_type": "display_data"
    }
   ],
   "source": [
    "sns.distplot(df['Monetário Vendido']);"
   ]
  },
  {
   "cell_type": "markdown",
   "metadata": {
    "id": "fIxOma4_zFsi"
   },
   "source": [
    "### Distribuição dos dados - histograma\r\n",
    "### Dia_do_Mês"
   ]
  },
  {
   "cell_type": "code",
   "execution_count": null,
   "metadata": {
    "colab": {
     "base_uri": "https://localhost:8080/",
     "height": 281
    },
    "id": "lh9z3SD7uW6b",
    "outputId": "59b40e70-7140-4274-af9f-a1f7f5b33e07"
   },
   "outputs": [
    {
     "data": {
      "image/png": "[encoded data removed]",
      "text/plain": [
       "<Figure size 432x288 with 1 Axes>"
      ]
     },
     "metadata": {
      "needs_background": "light",
      "tags": []
     },
     "output_type": "display_data"
    }
   ],
   "source": [
    "sns.distplot(df['Dia_do_Mês']);"
   ]
  },
  {
   "cell_type": "markdown",
   "metadata": {
    "id": "j17U1NtpzcXK"
   },
   "source": [
    "### Distribuição dos dados - histograma\r\n",
    "### Mês"
   ]
  },
  {
   "cell_type": "code",
   "execution_count": null,
   "metadata": {
    "colab": {
     "base_uri": "https://localhost:8080/",
     "height": 296
    },
    "id": "pKQUoNNWuuc0",
    "outputId": "5d018897-0ba7-4dd6-9e67-99588370356a"
   },
   "outputs": [
    {
     "data": {
      "text/plain": [
       "<matplotlib.axes._subplots.AxesSubplot at 0x7f0683f3fdd8>"
      ]
     },
     "execution_count": 288,
     "metadata": {
      "tags": []
     },
     "output_type": "execute_result"
    },
    {
     "data": {
      "image/png": "[encoded data removed]",
      "text/plain": [
       "<Figure size 432x288 with 1 Axes>"
      ]
     },
     "metadata": {
      "needs_background": "light",
      "tags": []
     },
     "output_type": "display_data"
    }
   ],
   "source": [
    "sns.distplot(df['Mês'])"
   ]
  },
  {
   "cell_type": "markdown",
   "metadata": {
    "id": "3F2yDOw8zrUF"
   },
   "source": [
    "### Total Vendas por Canal e Ano"
   ]
  },
  {
   "cell_type": "code",
   "execution_count": null,
   "metadata": {
    "colab": {
     "base_uri": "https://localhost:8080/",
     "height": 471
    },
    "id": "pSSwB0zRu8Dj",
    "outputId": "8d512bf6-a22f-4430-d6f5-588f08504188"
   },
   "outputs": [
    {
     "data": {
      "image/png": "[encoded data removed]",
      "text/plain": [
       "<Figure size 493.375x432 with 1 Axes>"
      ]
     },
     "metadata": {
      "needs_background": "light",
      "tags": []
     },
     "output_type": "display_data"
    }
   ],
   "source": [
    "mx = sns.catplot(x = \"Canal de Venda\", hue = 'Ano', data = df, kind = \"count\", height = 6)\r\n",
    "mx.set(ylabel = 'Total de Vendas por Canal')\r\n",
    "plt.title('Vendas por Canal');"
   ]
  },
  {
   "cell_type": "markdown",
   "metadata": {
    "id": "_qT_9t-jz8n9"
   },
   "source": [
    "### Total Vendas por Local de Venda e Ano"
   ]
  },
  {
   "cell_type": "code",
   "execution_count": null,
   "metadata": {
    "colab": {
     "base_uri": "https://localhost:8080/",
     "height": 471
    },
    "id": "nFUGXrSyyQjw",
    "outputId": "6c8ebe57-2ebc-4931-c0d0-a4fbf1b96e97"
   },
   "outputs": [
    {
     "data": {
      "image/png": "[encoded data removed]",
      "text/plain": [
       "<Figure size 493.375x432 with 1 Axes>"
      ]
     },
     "metadata": {
      "needs_background": "light",
      "tags": []
     },
     "output_type": "display_data"
    }
   ],
   "source": [
    "mx = sns.catplot(x = \"Local de Venda\", hue = 'Ano', data = df, kind = \"count\", height = 6)\r\n",
    "mx.set(ylabel = 'Total de Vendas por Local')\r\n",
    "plt.title('Vendas por Local');"
   ]
  },
  {
   "cell_type": "markdown",
   "metadata": {
    "id": "0KnsSf7T0JNu"
   },
   "source": [
    "### Total Vendas por Mês e Ano"
   ]
  },
  {
   "cell_type": "code",
   "execution_count": null,
   "metadata": {
    "colab": {
     "base_uri": "https://localhost:8080/",
     "height": 471
    },
    "id": "_77SVLRHyj9X",
    "outputId": "97466bcf-7019-431b-b69e-6a70b84b7861"
   },
   "outputs": [
    {
     "data": {
      "image/png": "[encoded data removed]",
      "text/plain": [
       "<Figure size 493.375x432 with 1 Axes>"
      ]
     },
     "metadata": {
      "needs_background": "light",
      "tags": []
     },
     "output_type": "display_data"
    }
   ],
   "source": [
    "mx = sns.catplot(x = \"Mês\", hue = 'Ano', data = df, kind = \"count\", height = 6)\r\n",
    "mx.set(ylabel = 'Total de Vendas por Mês')\r\n",
    "plt.title('Vendas por Mês');"
   ]
  },
  {
   "cell_type": "markdown",
   "metadata": {
    "id": "0PtQXGWC5l22"
   },
   "source": [
    "## Questões\r\n",
    "###1-Faça um ranking para o número total de PAX por dia da semana.\t\t\t\t\t\t\t\t\t\t\t\t\t\t\t\t\t\r\n",
    "###2-Qual a correlação de sábado e domingo somados com o total de RPK?\t\t\t\t\t\t\t\t\t\t\t\t\t\t\t\t\t\r\n",
    "###3-Qual a média de ‘Monetário’ por mês por Canal? E a mediana?\t\t\t\t\t\t\t\t\t\t\t\t\t\t\t\t\t\r\n",
    "###4-Crie um forecast de PAX por ‘Local de Venda’ para os próximos 15 dias a contar da última data de venda. (Aqui a técnica é livre) \t\t\t\t\t\t\t\t\t\t\t\t\t\t\t\t\t\r\n",
    "###5-Supondo que você precisa gerar um estudo para a área responsável, com base em qualquer modelo ou premissa, qual ‘Local de Venda’ você considera mais crítico. Por quê?\t\t\t\t\t\t\t\t\t\t\t\t\t\t\t\t\t\r\n",
    "###6-Criar modelo relacionando o comporatamento de venda com variaveis não apresentada nos dados (Ex : PIB, Dolar, e etc)\t\t\t"
   ]
  },
  {
   "cell_type": "markdown",
   "metadata": {
    "id": "OcDZFH0_L807"
   },
   "source": [
    "### 1 - Faça um ranking para o número total de PAX por dia da semana."
   ]
  },
  {
   "cell_type": "code",
   "execution_count": null,
   "metadata": {
    "colab": {
     "base_uri": "https://localhost:8080/",
     "height": 315
    },
    "id": "1rpYhSfY7WIz",
    "outputId": "29e7b2ef-6839-4cc1-f48a-d16eddd97c6e"
   },
   "outputs": [
    {
     "data": {
      "image/png": "[encoded data removed]",
      "text/plain": [
       "<Figure size 432x288 with 1 Axes>"
      ]
     },
     "metadata": {
      "needs_background": "light",
      "tags": []
     },
     "output_type": "display_data"
    }
   ],
   "source": [
    "ranking_Dia_PAX = df.groupby(['Nome_do_Dia'])['PAX'].sum().sort_values(ascending=False)\r\n",
    "ranking_Dia_PAX.plot(x='Nome_do_Dia', y=\"PAX\", kind= 'bar');"
   ]
  },
  {
   "cell_type": "markdown",
   "metadata": {
    "id": "gXmtdwF5MJCS"
   },
   "source": [
    "### 2 - Qual a correlação de sábado e domingo somados com o total de RPK?"
   ]
  },
  {
   "cell_type": "code",
   "execution_count": null,
   "metadata": {
    "id": "jLEzK4WLMN2M"
   },
   "outputs": [],
   "source": [
    "df_sabado_domingo = df.loc[(df['Nome_do_Dia'] == 'Sabado') | (df['Nome_do_Dia'] == 'Domingo')]"
   ]
  },
  {
   "cell_type": "code",
   "execution_count": null,
   "metadata": {
    "colab": {
     "base_uri": "https://localhost:8080/"
    },
    "id": "a20Em4pFMHbF",
    "outputId": "4ede4192-4ce2-4c4a-e326-24e760ea59cf"
   },
   "outputs": [
    {
     "data": {
      "text/plain": [
       "Sabado     352\n",
       "Domingo    336\n",
       "Name: Nome_do_Dia, dtype: int64"
      ]
     },
     "execution_count": 294,
     "metadata": {
      "tags": []
     },
     "output_type": "execute_result"
    }
   ],
   "source": [
    "df_sabado_domingo.Nome_do_Dia.value_counts()"
   ]
  },
  {
   "cell_type": "markdown",
   "metadata": {
    "id": "6eCcbDmB2Hfd"
   },
   "source": [
    "### Total geral considerando todos os dias"
   ]
  },
  {
   "cell_type": "code",
   "execution_count": null,
   "metadata": {
    "id": "pLcY5uqY1y9c"
   },
   "outputs": [],
   "source": [
    "total_PAX = df.PAX.sum()"
   ]
  },
  {
   "cell_type": "code",
   "execution_count": null,
   "metadata": {
    "colab": {
     "base_uri": "https://localhost:8080/"
    },
    "id": "3hOZNXmj16zt",
    "outputId": "2b2bf87d-922c-43ec-90de-42b65759547a"
   },
   "outputs": [
    {
     "data": {
      "text/plain": [
       "1758343"
      ]
     },
     "execution_count": 296,
     "metadata": {
      "tags": []
     },
     "output_type": "execute_result"
    }
   ],
   "source": [
    "total_PAX"
   ]
  },
  {
   "cell_type": "code",
   "execution_count": null,
   "metadata": {
    "id": "CtTIi7SC2U_8"
   },
   "outputs": [],
   "source": [
    "total_PAX_Sabado_e_Domingo = df_sabado_domingo.PAX.sum()"
   ]
  },
  {
   "cell_type": "code",
   "execution_count": null,
   "metadata": {
    "colab": {
     "base_uri": "https://localhost:8080/"
    },
    "id": "cmfAyDX02h6M",
    "outputId": "23752c0a-b771-4de8-d325-490b27981300"
   },
   "outputs": [
    {
     "data": {
      "text/plain": [
       "495087"
      ]
     },
     "execution_count": 298,
     "metadata": {
      "tags": []
     },
     "output_type": "execute_result"
    }
   ],
   "source": [
    "total_PAX_Sabado_e_Domingo"
   ]
  },
  {
   "cell_type": "code",
   "execution_count": null,
   "metadata": {
    "colab": {
     "base_uri": "https://localhost:8080/"
    },
    "id": "TtIS6xQF2rNV",
    "outputId": "4250dc8a-be82-4c78-aeea-53f1a85a04e1"
   },
   "outputs": [
    {
     "name": "stdout",
     "output_type": "stream",
     "text": [
      "Sabado e Domingo representam  28.16 % do Total de PAX\n"
     ]
    }
   ],
   "source": [
    "print(\"Sabado e Domingo representam \", np.round((total_PAX_Sabado_e_Domingo/total_PAX),4)*100,'% do Total de PAX')"
   ]
  },
  {
   "cell_type": "markdown",
   "metadata": {
    "id": "cXtFBv7FTF48"
   },
   "source": [
    "### 3 - Qual a média de ‘Monetário’ por mês por Canal? E a mediana?\t"
   ]
  },
  {
   "cell_type": "code",
   "execution_count": null,
   "metadata": {
    "id": "YIKomdbuUhTv"
   },
   "outputs": [],
   "source": [
    "temp = df.copy()\r\n",
    "temp = temp.rename(columns={\"Monetário Vendido\": \"Monetário\"})"
   ]
  },
  {
   "cell_type": "code",
   "execution_count": null,
   "metadata": {
    "id": "cvNU5W3aWSM6"
   },
   "outputs": [],
   "source": [
    "# Media de Monetário por Mês e Canal de Venda\r\n",
    "monet_mean = temp[['Monetário', 'Mês', \"Canal de Venda\"]].groupby(by =['Mês', \"Canal de Venda\"]).mean()\r\n",
    "#\r\n",
    "# Mediana de Monetário por Mês e Canal de Venda\r\n",
    "monet_mead = temp[['Monetário', 'Mês', \"Canal de Venda\"]].groupby(by =['Mês', \"Canal de Venda\"]).median()"
   ]
  },
  {
   "cell_type": "code",
   "execution_count": null,
   "metadata": {
    "colab": {
     "base_uri": "https://localhost:8080/"
    },
    "id": "ii7VtfS56prR",
    "outputId": "9f910e2f-d3bb-415b-a22c-3422ed0da8bd"
   },
   "outputs": [
    {
     "name": "stdout",
     "output_type": "stream",
     "text": [
      "Valor da Mediana de Monetário por Mês e Canal de Venda\n",
      "\n",
      "                     Monetário\n",
      "Mês Canal de Venda           \n",
      "1   Porta a Porta    28823.03\n",
      "    TeleVenda        19085.12\n",
      "    Telégrafo         3782.25\n",
      "2   Porta a Porta    29711.58\n",
      "    TeleVenda        18926.69\n",
      "    Telégrafo         4045.89\n",
      "3   Porta a Porta    30488.19\n",
      "    TeleVenda        18666.88\n",
      "    Telégrafo         4345.56\n",
      "4   Porta a Porta    32421.61\n",
      "    TeleVenda        28091.89\n",
      "    Telégrafo         3458.89\n",
      "11  Porta a Porta    30262.98\n",
      "    TeleVenda        18757.71\n",
      "    Telégrafo         4029.14\n",
      "12  Porta a Porta    25527.52\n",
      "    TeleVenda        17567.60\n",
      "    Telégrafo         4227.57\n"
     ]
    }
   ],
   "source": [
    "print(\"Valor da Mediana de Monetário por Mês e Canal de Venda\\n\\n\", monet_mead)"
   ]
  },
  {
   "cell_type": "code",
   "execution_count": null,
   "metadata": {
    "colab": {
     "base_uri": "https://localhost:8080/"
    },
    "id": "RSIxdDW_cGP4",
    "outputId": "d910c9df-3dba-44f5-eee1-d008778a5e01"
   },
   "outputs": [
    {
     "name": "stdout",
     "output_type": "stream",
     "text": [
      "Valor da Medio de Monetário por Mês e Canal de Venda\n",
      "\n",
      "                     Monetário\n",
      "Mês Canal de Venda           \n",
      "1   Porta a Porta    31320.57\n",
      "    TeleVenda        32868.88\n",
      "    Telégrafo         4234.02\n",
      "2   Porta a Porta    31710.15\n",
      "    TeleVenda        32208.45\n",
      "    Telégrafo         4307.63\n",
      "3   Porta a Porta    31055.94\n",
      "    TeleVenda        32132.25\n",
      "    Telégrafo         4568.15\n",
      "4   Porta a Porta    33319.50\n",
      "    TeleVenda        35795.78\n",
      "    Telégrafo         3778.59\n",
      "11  Porta a Porta    34638.07\n",
      "    TeleVenda        30963.46\n",
      "    Telégrafo         4614.31\n",
      "12  Porta a Porta    28615.45\n",
      "    TeleVenda        28045.72\n",
      "    Telégrafo         5212.65\n"
     ]
    }
   ],
   "source": [
    "print(\"Valor da Medio de Monetário por Mês e Canal de Venda\\n\\n\", monet_mean)"
   ]
  },
  {
   "cell_type": "markdown",
   "metadata": {
    "id": "Od6wiJXucwVx"
   },
   "source": [
    "### 4 - Crie um forecast de PAX por ‘Local de Venda’ para os próximos 15 dias a contar da última data de venda. (Aqui a técnica é livre)"
   ]
  },
  {
   "cell_type": "code",
   "execution_count": null,
   "metadata": {
    "colab": {
     "base_uri": "https://localhost:8080/",
     "height": 204
    },
    "id": "q1Q6m-o5coGq",
    "outputId": "1784c738-1979-443c-b126-efc4185b4fe3"
   },
   "outputs": [
    {
     "data": {
      "text/html": [
       "<div>\n",
       "<style scoped>\n",
       "    .dataframe tbody tr th:only-of-type {\n",
       "        vertical-align: middle;\n",
       "    }\n",
       "\n",
       "    .dataframe tbody tr th {\n",
       "        vertical-align: top;\n",
       "    }\n",
       "\n",
       "    .dataframe thead th {\n",
       "        text-align: right;\n",
       "    }\n",
       "</style>\n",
       "<table border=\"1\" class=\"dataframe\">\n",
       "  <thead>\n",
       "    <tr style=\"text-align: right;\">\n",
       "      <th></th>\n",
       "      <th>Data Venda</th>\n",
       "      <th>Canal de Venda</th>\n",
       "      <th>Local de Venda</th>\n",
       "      <th>PAX</th>\n",
       "      <th>Monetário Vendido</th>\n",
       "      <th>RPK</th>\n",
       "      <th>Ano</th>\n",
       "      <th>Mês</th>\n",
       "      <th>Dia_do_Mês</th>\n",
       "      <th>Dia_da_Semana_Numero</th>\n",
       "      <th>Nome_do_Dia</th>\n",
       "    </tr>\n",
       "  </thead>\n",
       "  <tbody>\n",
       "    <tr>\n",
       "      <th>0</th>\n",
       "      <td>2016-11-01</td>\n",
       "      <td>Telégrafo</td>\n",
       "      <td>Mindscape</td>\n",
       "      <td>30</td>\n",
       "      <td>2188.11</td>\n",
       "      <td>3476</td>\n",
       "      <td>2016</td>\n",
       "      <td>11</td>\n",
       "      <td>1</td>\n",
       "      <td>1</td>\n",
       "      <td>Terça</td>\n",
       "    </tr>\n",
       "    <tr>\n",
       "      <th>1</th>\n",
       "      <td>2016-11-01</td>\n",
       "      <td>TeleVenda</td>\n",
       "      <td>Arena</td>\n",
       "      <td>52</td>\n",
       "      <td>3302.38</td>\n",
       "      <td>8197</td>\n",
       "      <td>2016</td>\n",
       "      <td>11</td>\n",
       "      <td>1</td>\n",
       "      <td>1</td>\n",
       "      <td>Terça</td>\n",
       "    </tr>\n",
       "    <tr>\n",
       "      <th>2</th>\n",
       "      <td>2016-11-01</td>\n",
       "      <td>TeleVenda</td>\n",
       "      <td>Mindscape</td>\n",
       "      <td>19</td>\n",
       "      <td>1041.54</td>\n",
       "      <td>2425</td>\n",
       "      <td>2016</td>\n",
       "      <td>11</td>\n",
       "      <td>1</td>\n",
       "      <td>1</td>\n",
       "      <td>Terça</td>\n",
       "    </tr>\n",
       "    <tr>\n",
       "      <th>3</th>\n",
       "      <td>2016-11-01</td>\n",
       "      <td>Porta a Porta</td>\n",
       "      <td>Mindscape</td>\n",
       "      <td>496</td>\n",
       "      <td>15566.34</td>\n",
       "      <td>53278</td>\n",
       "      <td>2016</td>\n",
       "      <td>11</td>\n",
       "      <td>1</td>\n",
       "      <td>1</td>\n",
       "      <td>Terça</td>\n",
       "    </tr>\n",
       "    <tr>\n",
       "      <th>4</th>\n",
       "      <td>2016-11-01</td>\n",
       "      <td>TeleVenda</td>\n",
       "      <td>Vast</td>\n",
       "      <td>46</td>\n",
       "      <td>2721.43</td>\n",
       "      <td>2039</td>\n",
       "      <td>2016</td>\n",
       "      <td>11</td>\n",
       "      <td>1</td>\n",
       "      <td>1</td>\n",
       "      <td>Terça</td>\n",
       "    </tr>\n",
       "  </tbody>\n",
       "</table>\n",
       "</div>"
      ],
      "text/plain": [
       "  Data Venda Canal de Venda Local de Venda  PAX  Monetário Vendido    RPK  \\\n",
       "0 2016-11-01      Telégrafo      Mindscape   30            2188.11   3476   \n",
       "1 2016-11-01      TeleVenda          Arena   52            3302.38   8197   \n",
       "2 2016-11-01      TeleVenda      Mindscape   19            1041.54   2425   \n",
       "3 2016-11-01  Porta a Porta      Mindscape  496           15566.34  53278   \n",
       "4 2016-11-01      TeleVenda           Vast   46            2721.43   2039   \n",
       "\n",
       "    Ano  Mês  Dia_do_Mês  Dia_da_Semana_Numero Nome_do_Dia  \n",
       "0  2016   11           1                     1       Terça  \n",
       "1  2016   11           1                     1       Terça  \n",
       "2  2016   11           1                     1       Terça  \n",
       "3  2016   11           1                     1       Terça  \n",
       "4  2016   11           1                     1       Terça  "
      ]
     },
     "execution_count": 304,
     "metadata": {
      "tags": []
     },
     "output_type": "execute_result"
    }
   ],
   "source": [
    "df.head()"
   ]
  },
  {
   "cell_type": "code",
   "execution_count": null,
   "metadata": {
    "colab": {
     "base_uri": "https://localhost:8080/"
    },
    "id": "lPbOXitCdNzG",
    "outputId": "de39854d-895d-4c84-96eb-a30eabcf5107"
   },
   "outputs": [
    {
     "data": {
      "text/plain": [
       "Mindscape    608\n",
       "Vast         608\n",
       "Arena        608\n",
       "Ellipsis     608\n",
       "Name: Local de Venda, dtype: int64"
      ]
     },
     "execution_count": 305,
     "metadata": {
      "tags": []
     },
     "output_type": "execute_result"
    }
   ],
   "source": [
    "df['Local de Venda'].value_counts()"
   ]
  },
  {
   "cell_type": "markdown",
   "metadata": {
    "id": "QNgpQIcUkkh6"
   },
   "source": [
    "#### Separando os conjuntos de dados de cada Local de Venda"
   ]
  },
  {
   "cell_type": "code",
   "execution_count": null,
   "metadata": {
    "id": "XmV6NSDadlme"
   },
   "outputs": [],
   "source": [
    "temp = df.copy()\r\n",
    "temp_Mindscape = df.loc[temp['Local de Venda']== \"Mindscape\"]\r\n",
    "#\r\n",
    "temp_Arena = df.loc[temp['Local de Venda']== \"Arena\"]\r\n",
    "#\r\n",
    "temp_Vast = df.loc[temp['Local de Venda']== \"Vast\"]\r\n",
    "#\r\n",
    "temp_Ellipsis = df.loc[temp['Local de Venda']== \"Ellipsis\"]"
   ]
  },
  {
   "cell_type": "markdown",
   "metadata": {
    "id": "0dBjoX5NnMf0"
   },
   "source": [
    "#### Forecast dos próximos 15 dias de PAX por Local de Venda, \r\n",
    "#### a partir do última dia de venda."
   ]
  },
  {
   "cell_type": "code",
   "execution_count": null,
   "metadata": {
    "id": "u7Oft4qRlEkM"
   },
   "outputs": [],
   "source": [
    "# Forecast by Prophet\r\n",
    "prediction_size = 15 # dias"
   ]
  },
  {
   "cell_type": "code",
   "execution_count": null,
   "metadata": {
    "id": "Lumz6O4EqSH2"
   },
   "outputs": [],
   "source": [
    "# A função recebe o local de venda e o conjunto de dados naquele local\r\n",
    "# A ultima data de venda no local é extraida selecionado o maior valor no campo Data Venda\r\n",
    "# A previsão é definida para um intervalo de confiança~de 95%\r\n",
    "# Após o modelo fazer a previsão, é feita filtragem dos 15 dias previstos\r\n",
    "# É feito um gráfico que apresenta a evolução do valor de PAX no periodo.\r\n",
    "#\r\n",
    "# retorna o dataset com as previsões de 15 dias\r\n",
    "#\r\n",
    "def predict_pax(local,df):\r\n",
    "  model = Prophet(interval_width=0.95)\r\n",
    "  df = df.rename(columns={\"Data Venda\": \"ds\", \"PAX\": \"y\"})\r\n",
    "  model.fit(df)\r\n",
    "  future = model.make_future_dataframe(periods=prediction_size)\r\n",
    "  forecast = model.predict(future)\r\n",
    "  # As previsões devem ser feitas a partir da data da ultima venda\r\n",
    "  ultima_venda = df['ds'].max()\r\n",
    "  forecast_next_15_days = forecast.loc[forecast.ds > ultima_venda ]\r\n",
    "  fig = model.plot(forecast_next_15_days, figsize=(10,5))\r\n",
    "  ax = fig.gca()\r\n",
    "  ax.set_title(local+\"\\nForecast by Prophet\\nPeriodo: 15 dias a partir da última registrada\", size=18)\r\n",
    "  ax.set_xlabel(\"Date\", size=14)\r\n",
    "  ax.set_ylabel(\"PAX\", size=14)\r\n",
    "  ax.tick_params(axis='x', labelsize=10)\r\n",
    "  ax.tick_params(axis='y', labelsize=10)\r\n",
    "  #\r\n",
    "  fig = model.plot_components(forecast, figsize=(10,5))\r\n",
    "  return forecast_next_15_days"
   ]
  },
  {
   "cell_type": "code",
   "execution_count": null,
   "metadata": {
    "id": "I4BXBP006_rS"
   },
   "outputs": [],
   "source": [
    "# A função recebe o local e as previsões, faz ajustes nos nomes das colunas\r\n",
    "# E apresentas previsões efetuadas pela lib Prophet\r\n",
    "#\r\n",
    "def resultado(local, forecast):\r\n",
    "  forecast= forecast.rename(columns={\"ds\": \"Data Venda\", \"yhat\": \"PAX\"})\r\n",
    "  print(\"\\n\",local)\r\n",
    "  print(\"\\nValores previstos pros próximos 15 dias\")\r\n",
    "  print(\"Inicio:\",forecast['Data Venda'].min())\r\n",
    "  print(\"Final :\", forecast['Data Venda'].max())\r\n",
    "  print(\"\\n\",forecast[['Data Venda', 'PAX']])"
   ]
  },
  {
   "cell_type": "markdown",
   "metadata": {
    "id": "O2hFuQ5q87yE"
   },
   "source": [
    "#### Efetuando as previsões para cada local"
   ]
  },
  {
   "cell_type": "markdown",
   "metadata": {
    "id": "Gt3pvtUo-FzI"
   },
   "source": [
    "### Mindscape"
   ]
  },
  {
   "cell_type": "code",
   "execution_count": null,
   "metadata": {
    "colab": {
     "base_uri": "https://localhost:8080/",
     "height": 1000
    },
    "id": "dj8wQ25FrV0p",
    "outputId": "f14825c1-5fa6-456f-8971-7f23094bb1ed"
   },
   "outputs": [
    {
     "name": "stderr",
     "output_type": "stream",
     "text": [
      "INFO:fbprophet:Disabling yearly seasonality. Run prophet with yearly_seasonality=True to override this.\n",
      "INFO:fbprophet:Disabling daily seasonality. Run prophet with daily_seasonality=True to override this.\n"
     ]
    },
    {
     "name": "stdout",
     "output_type": "stream",
     "text": [
      "\n",
      " Mindcaspe\n",
      "\n",
      "Valores previstos pros próximos 15 dias\n",
      "Inicio: 2017-04-02 00:00:00\n",
      "Final : 2017-04-16 00:00:00\n",
      "\n",
      "     Data Venda     PAX\n",
      "152 2017-04-02  655.47\n",
      "153 2017-04-03  678.82\n",
      "154 2017-04-04  595.40\n",
      "155 2017-04-05  778.86\n",
      "156 2017-04-06  684.70\n",
      "157 2017-04-07  678.15\n",
      "158 2017-04-08  673.19\n",
      "159 2017-04-09  657.35\n",
      "160 2017-04-10  680.70\n",
      "161 2017-04-11  597.28\n",
      "162 2017-04-12  780.74\n",
      "163 2017-04-13  686.58\n",
      "164 2017-04-14  680.03\n",
      "165 2017-04-15  675.07\n",
      "166 2017-04-16  659.24\n"
     ]
    },
    {
     "data": {
      "image/png": "[encoded data removed]",
      "text/plain": [
       "<Figure size 720x360 with 1 Axes>"
      ]
     },
     "metadata": {
      "tags": []
     },
     "output_type": "display_data"
    },
    {
     "data": {
      "image/png": "[encoded data removed]",
      "text/plain": [
       "<Figure size 720x360 with 2 Axes>"
      ]
     },
     "metadata": {
      "tags": []
     },
     "output_type": "display_data"
    }
   ],
   "source": [
    "forecast_mindscape = predict_pax('Mindscape',temp_Mindscape);\r\n",
    "resultado('Mindcaspe',forecast_mindscape)\r\n"
   ]
  },
  {
   "cell_type": "markdown",
   "metadata": {
    "id": "4D6PiiWA_r6k"
   },
   "source": [
    "### Arena"
   ]
  },
  {
   "cell_type": "code",
   "execution_count": null,
   "metadata": {
    "colab": {
     "base_uri": "https://localhost:8080/",
     "height": 1000
    },
    "id": "TXTEX9Hd_olN",
    "outputId": "84af7322-8e8b-46a4-a182-8363e61e8da4"
   },
   "outputs": [
    {
     "name": "stderr",
     "output_type": "stream",
     "text": [
      "INFO:fbprophet:Disabling yearly seasonality. Run prophet with yearly_seasonality=True to override this.\n",
      "INFO:fbprophet:Disabling daily seasonality. Run prophet with daily_seasonality=True to override this.\n"
     ]
    },
    {
     "name": "stdout",
     "output_type": "stream",
     "text": [
      "\n",
      " Arena\n",
      "\n",
      "Valores previstos pros próximos 15 dias\n",
      "Inicio: 2017-04-02 00:00:00\n",
      "Final : 2017-04-16 00:00:00\n",
      "\n",
      "     Data Venda     PAX\n",
      "152 2017-04-02  793.23\n",
      "153 2017-04-03  885.65\n",
      "154 2017-04-04  682.59\n",
      "155 2017-04-05  835.99\n",
      "156 2017-04-06  770.91\n",
      "157 2017-04-07  767.12\n",
      "158 2017-04-08  769.12\n",
      "159 2017-04-09  793.85\n",
      "160 2017-04-10  886.28\n",
      "161 2017-04-11  683.22\n",
      "162 2017-04-12  836.62\n",
      "163 2017-04-13  771.53\n",
      "164 2017-04-14  767.75\n",
      "165 2017-04-15  769.75\n",
      "166 2017-04-16  794.48\n"
     ]
    },
    {
     "data": {
      "image/png": "[encoded data removed]",
      "text/plain": [
       "<Figure size 720x360 with 1 Axes>"
      ]
     },
     "metadata": {
      "tags": []
     },
     "output_type": "display_data"
    },
    {
     "data": {
      "image/png": "[encoded data removed]",
      "text/plain": [
       "<Figure size 720x360 with 2 Axes>"
      ]
     },
     "metadata": {
      "tags": []
     },
     "output_type": "display_data"
    }
   ],
   "source": [
    "forecast_arena = predict_pax('Arena',temp_Arena);\r\n",
    "resultado('Arena',forecast_arena)"
   ]
  },
  {
   "cell_type": "markdown",
   "metadata": {
    "id": "KiAh2PMKBYVA"
   },
   "source": [
    "### Vast\r\n"
   ]
  },
  {
   "cell_type": "code",
   "execution_count": null,
   "metadata": {
    "colab": {
     "base_uri": "https://localhost:8080/",
     "height": 1000
    },
    "id": "veC7mGhgBXtL",
    "outputId": "b60d220f-df17-4a55-e2e9-48cfc3f8415f"
   },
   "outputs": [
    {
     "name": "stderr",
     "output_type": "stream",
     "text": [
      "INFO:fbprophet:Disabling yearly seasonality. Run prophet with yearly_seasonality=True to override this.\n",
      "INFO:fbprophet:Disabling daily seasonality. Run prophet with daily_seasonality=True to override this.\n"
     ]
    },
    {
     "name": "stdout",
     "output_type": "stream",
     "text": [
      "\n",
      " Vast\n",
      "\n",
      "Valores previstos pros próximos 15 dias\n",
      "Inicio: 2017-04-02 00:00:00\n",
      "Final : 2017-04-16 00:00:00\n",
      "\n",
      "     Data Venda      PAX\n",
      "152 2017-04-02   884.68\n",
      "153 2017-04-03   763.77\n",
      "154 2017-04-04   754.40\n",
      "155 2017-04-05  1051.70\n",
      "156 2017-04-06   921.21\n",
      "157 2017-04-07   902.84\n",
      "158 2017-04-08   890.92\n",
      "159 2017-04-09   888.32\n",
      "160 2017-04-10   767.40\n",
      "161 2017-04-11   758.04\n",
      "162 2017-04-12  1055.33\n",
      "163 2017-04-13   924.84\n",
      "164 2017-04-14   906.47\n",
      "165 2017-04-15   894.55\n",
      "166 2017-04-16   891.95\n"
     ]
    },
    {
     "data": {
      "image/png": "[encoded data removed]",
      "text/plain": [
       "<Figure size 720x360 with 1 Axes>"
      ]
     },
     "metadata": {
      "tags": []
     },
     "output_type": "display_data"
    },
    {
     "data": {
      "image/png": "[encoded data removed]",
      "text/plain": [
       "<Figure size 720x360 with 2 Axes>"
      ]
     },
     "metadata": {
      "tags": []
     },
     "output_type": "display_data"
    }
   ],
   "source": [
    "forecast_vast = predict_pax('Vast',temp_Vast);\r\n",
    "resultado('Vast',forecast_vast)"
   ]
  },
  {
   "cell_type": "markdown",
   "metadata": {
    "id": "kTvIuJrrBry5"
   },
   "source": [
    "### Ellipsis"
   ]
  },
  {
   "cell_type": "code",
   "execution_count": null,
   "metadata": {
    "colab": {
     "base_uri": "https://localhost:8080/",
     "height": 1000
    },
    "id": "AaaWTB0TBqBd",
    "outputId": "4bb21daf-0e23-4f73-a53e-dfda0db7899f"
   },
   "outputs": [
    {
     "name": "stderr",
     "output_type": "stream",
     "text": [
      "INFO:fbprophet:Disabling yearly seasonality. Run prophet with yearly_seasonality=True to override this.\n",
      "INFO:fbprophet:Disabling daily seasonality. Run prophet with daily_seasonality=True to override this.\n"
     ]
    },
    {
     "name": "stdout",
     "output_type": "stream",
     "text": [
      "\n",
      " Ellipsis\n",
      "\n",
      "Valores previstos pros próximos 15 dias\n",
      "Inicio: 2017-04-02 00:00:00\n",
      "Final : 2017-04-16 00:00:00\n",
      "\n",
      "     Data Venda     PAX\n",
      "152 2017-04-02  656.69\n",
      "153 2017-04-03  598.55\n",
      "154 2017-04-04  584.79\n",
      "155 2017-04-05  782.61\n",
      "156 2017-04-06  679.66\n",
      "157 2017-04-07  675.66\n",
      "158 2017-04-08  665.83\n",
      "159 2017-04-09  661.30\n",
      "160 2017-04-10  603.16\n",
      "161 2017-04-11  589.39\n",
      "162 2017-04-12  787.22\n",
      "163 2017-04-13  684.27\n",
      "164 2017-04-14  680.26\n",
      "165 2017-04-15  670.44\n",
      "166 2017-04-16  665.91\n"
     ]
    },
    {
     "data": {
      "image/png": "[encoded data removed]",
      "text/plain": [
       "<Figure size 720x360 with 1 Axes>"
      ]
     },
     "metadata": {
      "tags": []
     },
     "output_type": "display_data"
    },
    {
     "data": {
      "image/png": "[encoded data removed]",
      "text/plain": [
       "<Figure size 720x360 with 2 Axes>"
      ]
     },
     "metadata": {
      "tags": []
     },
     "output_type": "display_data"
    }
   ],
   "source": [
    "forecast_ellipsis = predict_pax('Ellipsis',temp_Ellipsis);\r\n",
    "resultado('Ellipsis',forecast_ellipsis)"
   ]
  },
  {
   "cell_type": "code",
   "execution_count": null,
   "metadata": {
    "id": "jo33Doy8iTuc"
   },
   "outputs": [],
   "source": [
    "mindscape = forecast_mindscape[['ds', 'yhat']].rename(columns={\"ds\": \"Data Venda\", \"yhat\": \"PAX_MINDSCAPE\"})\r\n",
    "arena = forecast_arena[['ds', 'yhat']].rename(columns={\"ds\": \"Data Venda\", \"yhat\": \"PAX_ARENA\"})\r\n",
    "vast = forecast_vast[['ds', 'yhat']].rename(columns={\"ds\": \"Data Venda\", \"yhat\": \"PAX_VAST\"})\r\n",
    "ellipsis = forecast_ellipsis[['ds', 'yhat']].rename(columns={\"ds\": \"Data Venda\", \"yhat\": \"PAX_Ellipsis\"})"
   ]
  },
  {
   "cell_type": "code",
   "execution_count": null,
   "metadata": {
    "id": "ouXJ0el5j4_9"
   },
   "outputs": [],
   "source": [
    "merge1 = pd.merge(vast, arena)\r\n",
    "#\r\n",
    "merge2 = pd.merge(merge1, mindscape)\r\n",
    "#\r\n",
    "all_forecast = pd.merge(merge2, ellipsis)\r\n"
   ]
  },
  {
   "cell_type": "markdown",
   "metadata": {
    "id": "OEcViUyioKhR"
   },
   "source": [
    "### Previsões para os locais de venda"
   ]
  },
  {
   "cell_type": "code",
   "execution_count": null,
   "metadata": {
    "colab": {
     "base_uri": "https://localhost:8080/",
     "height": 514
    },
    "id": "s8vwhHU8ksfa",
    "outputId": "bbffb29a-e283-4248-be8b-431c34a5e8a0"
   },
   "outputs": [
    {
     "data": {
      "text/html": [
       "<div>\n",
       "<style scoped>\n",
       "    .dataframe tbody tr th:only-of-type {\n",
       "        vertical-align: middle;\n",
       "    }\n",
       "\n",
       "    .dataframe tbody tr th {\n",
       "        vertical-align: top;\n",
       "    }\n",
       "\n",
       "    .dataframe thead th {\n",
       "        text-align: right;\n",
       "    }\n",
       "</style>\n",
       "<table border=\"1\" class=\"dataframe\">\n",
       "  <thead>\n",
       "    <tr style=\"text-align: right;\">\n",
       "      <th></th>\n",
       "      <th>Data Venda</th>\n",
       "      <th>PAX_VAST</th>\n",
       "      <th>PAX_ARENA</th>\n",
       "      <th>PAX_MINDSCAPE</th>\n",
       "      <th>PAX_Ellipsis</th>\n",
       "    </tr>\n",
       "  </thead>\n",
       "  <tbody>\n",
       "    <tr>\n",
       "      <th>0</th>\n",
       "      <td>2017-04-02</td>\n",
       "      <td>884.68</td>\n",
       "      <td>793.23</td>\n",
       "      <td>655.47</td>\n",
       "      <td>656.69</td>\n",
       "    </tr>\n",
       "    <tr>\n",
       "      <th>1</th>\n",
       "      <td>2017-04-03</td>\n",
       "      <td>763.77</td>\n",
       "      <td>885.65</td>\n",
       "      <td>678.82</td>\n",
       "      <td>598.55</td>\n",
       "    </tr>\n",
       "    <tr>\n",
       "      <th>2</th>\n",
       "      <td>2017-04-04</td>\n",
       "      <td>754.40</td>\n",
       "      <td>682.59</td>\n",
       "      <td>595.40</td>\n",
       "      <td>584.79</td>\n",
       "    </tr>\n",
       "    <tr>\n",
       "      <th>3</th>\n",
       "      <td>2017-04-05</td>\n",
       "      <td>1051.70</td>\n",
       "      <td>835.99</td>\n",
       "      <td>778.86</td>\n",
       "      <td>782.61</td>\n",
       "    </tr>\n",
       "    <tr>\n",
       "      <th>4</th>\n",
       "      <td>2017-04-06</td>\n",
       "      <td>921.21</td>\n",
       "      <td>770.91</td>\n",
       "      <td>684.70</td>\n",
       "      <td>679.66</td>\n",
       "    </tr>\n",
       "    <tr>\n",
       "      <th>5</th>\n",
       "      <td>2017-04-07</td>\n",
       "      <td>902.84</td>\n",
       "      <td>767.12</td>\n",
       "      <td>678.15</td>\n",
       "      <td>675.66</td>\n",
       "    </tr>\n",
       "    <tr>\n",
       "      <th>6</th>\n",
       "      <td>2017-04-08</td>\n",
       "      <td>890.92</td>\n",
       "      <td>769.12</td>\n",
       "      <td>673.19</td>\n",
       "      <td>665.83</td>\n",
       "    </tr>\n",
       "    <tr>\n",
       "      <th>7</th>\n",
       "      <td>2017-04-09</td>\n",
       "      <td>888.32</td>\n",
       "      <td>793.85</td>\n",
       "      <td>657.35</td>\n",
       "      <td>661.30</td>\n",
       "    </tr>\n",
       "    <tr>\n",
       "      <th>8</th>\n",
       "      <td>2017-04-10</td>\n",
       "      <td>767.40</td>\n",
       "      <td>886.28</td>\n",
       "      <td>680.70</td>\n",
       "      <td>603.16</td>\n",
       "    </tr>\n",
       "    <tr>\n",
       "      <th>9</th>\n",
       "      <td>2017-04-11</td>\n",
       "      <td>758.04</td>\n",
       "      <td>683.22</td>\n",
       "      <td>597.28</td>\n",
       "      <td>589.39</td>\n",
       "    </tr>\n",
       "    <tr>\n",
       "      <th>10</th>\n",
       "      <td>2017-04-12</td>\n",
       "      <td>1055.33</td>\n",
       "      <td>836.62</td>\n",
       "      <td>780.74</td>\n",
       "      <td>787.22</td>\n",
       "    </tr>\n",
       "    <tr>\n",
       "      <th>11</th>\n",
       "      <td>2017-04-13</td>\n",
       "      <td>924.84</td>\n",
       "      <td>771.53</td>\n",
       "      <td>686.58</td>\n",
       "      <td>684.27</td>\n",
       "    </tr>\n",
       "    <tr>\n",
       "      <th>12</th>\n",
       "      <td>2017-04-14</td>\n",
       "      <td>906.47</td>\n",
       "      <td>767.75</td>\n",
       "      <td>680.03</td>\n",
       "      <td>680.26</td>\n",
       "    </tr>\n",
       "    <tr>\n",
       "      <th>13</th>\n",
       "      <td>2017-04-15</td>\n",
       "      <td>894.55</td>\n",
       "      <td>769.75</td>\n",
       "      <td>675.07</td>\n",
       "      <td>670.44</td>\n",
       "    </tr>\n",
       "    <tr>\n",
       "      <th>14</th>\n",
       "      <td>2017-04-16</td>\n",
       "      <td>891.95</td>\n",
       "      <td>794.48</td>\n",
       "      <td>659.24</td>\n",
       "      <td>665.91</td>\n",
       "    </tr>\n",
       "  </tbody>\n",
       "</table>\n",
       "</div>"
      ],
      "text/plain": [
       "   Data Venda  PAX_VAST  PAX_ARENA  PAX_MINDSCAPE  PAX_Ellipsis\n",
       "0  2017-04-02    884.68     793.23         655.47        656.69\n",
       "1  2017-04-03    763.77     885.65         678.82        598.55\n",
       "2  2017-04-04    754.40     682.59         595.40        584.79\n",
       "3  2017-04-05   1051.70     835.99         778.86        782.61\n",
       "4  2017-04-06    921.21     770.91         684.70        679.66\n",
       "5  2017-04-07    902.84     767.12         678.15        675.66\n",
       "6  2017-04-08    890.92     769.12         673.19        665.83\n",
       "7  2017-04-09    888.32     793.85         657.35        661.30\n",
       "8  2017-04-10    767.40     886.28         680.70        603.16\n",
       "9  2017-04-11    758.04     683.22         597.28        589.39\n",
       "10 2017-04-12   1055.33     836.62         780.74        787.22\n",
       "11 2017-04-13    924.84     771.53         686.58        684.27\n",
       "12 2017-04-14    906.47     767.75         680.03        680.26\n",
       "13 2017-04-15    894.55     769.75         675.07        670.44\n",
       "14 2017-04-16    891.95     794.48         659.24        665.91"
      ]
     },
     "execution_count": 316,
     "metadata": {
      "tags": []
     },
     "output_type": "execute_result"
    }
   ],
   "source": [
    "all_forecast"
   ]
  },
  {
   "cell_type": "markdown",
   "metadata": {
    "id": "sYDVL-nisYfW"
   },
   "source": [
    "### 5 - Supondo que você precisa gerar um estudo para a área responsável, com base em qualquer modelo ou premissa, qual ‘Local de Venda’ você considera mais crítico. Por quê?"
   ]
  },
  {
   "cell_type": "markdown",
   "metadata": {
    "id": "7iJuM5ay7gsg"
   },
   "source": [
    "#### Analisando o retorno de describe com relação ao Desvio Padrão (std).\r\n",
    "\r\n"
   ]
  },
  {
   "cell_type": "code",
   "execution_count": null,
   "metadata": {
    "colab": {
     "base_uri": "https://localhost:8080/",
     "height": 266
    },
    "id": "d8F3PxIw766R",
    "outputId": "2b968d92-0ef0-4f04-84dd-c71dc5602b0c"
   },
   "outputs": [
    {
     "data": {
      "text/html": [
       "<div>\n",
       "<style scoped>\n",
       "    .dataframe tbody tr th:only-of-type {\n",
       "        vertical-align: middle;\n",
       "    }\n",
       "\n",
       "    .dataframe tbody tr th {\n",
       "        vertical-align: top;\n",
       "    }\n",
       "\n",
       "    .dataframe thead th {\n",
       "        text-align: right;\n",
       "    }\n",
       "</style>\n",
       "<table border=\"1\" class=\"dataframe\">\n",
       "  <thead>\n",
       "    <tr style=\"text-align: right;\">\n",
       "      <th></th>\n",
       "      <th>count</th>\n",
       "      <th>mean</th>\n",
       "      <th>std</th>\n",
       "      <th>min</th>\n",
       "      <th>25%</th>\n",
       "      <th>50%</th>\n",
       "      <th>75%</th>\n",
       "      <th>max</th>\n",
       "    </tr>\n",
       "  </thead>\n",
       "  <tbody>\n",
       "    <tr>\n",
       "      <th>PAX</th>\n",
       "      <td>608.0</td>\n",
       "      <td>615.08</td>\n",
       "      <td>577.93</td>\n",
       "      <td>18.00</td>\n",
       "      <td>78.00</td>\n",
       "      <td>334.50</td>\n",
       "      <td>953.25</td>\n",
       "      <td>2697.00</td>\n",
       "    </tr>\n",
       "    <tr>\n",
       "      <th>Monetário Vendido</th>\n",
       "      <td>608.0</td>\n",
       "      <td>18446.39</td>\n",
       "      <td>14460.58</td>\n",
       "      <td>1126.69</td>\n",
       "      <td>4383.74</td>\n",
       "      <td>16457.54</td>\n",
       "      <td>25017.52</td>\n",
       "      <td>60758.26</td>\n",
       "    </tr>\n",
       "    <tr>\n",
       "      <th>RPK</th>\n",
       "      <td>608.0</td>\n",
       "      <td>34496.96</td>\n",
       "      <td>32220.57</td>\n",
       "      <td>1127.00</td>\n",
       "      <td>4579.00</td>\n",
       "      <td>19990.50</td>\n",
       "      <td>53505.75</td>\n",
       "      <td>152788.00</td>\n",
       "    </tr>\n",
       "    <tr>\n",
       "      <th>Ano</th>\n",
       "      <td>608.0</td>\n",
       "      <td>2016.60</td>\n",
       "      <td>0.49</td>\n",
       "      <td>2016.00</td>\n",
       "      <td>2016.00</td>\n",
       "      <td>2017.00</td>\n",
       "      <td>2017.00</td>\n",
       "      <td>2017.00</td>\n",
       "    </tr>\n",
       "    <tr>\n",
       "      <th>Mês</th>\n",
       "      <td>608.0</td>\n",
       "      <td>5.83</td>\n",
       "      <td>4.71</td>\n",
       "      <td>1.00</td>\n",
       "      <td>2.00</td>\n",
       "      <td>3.00</td>\n",
       "      <td>11.00</td>\n",
       "      <td>12.00</td>\n",
       "    </tr>\n",
       "    <tr>\n",
       "      <th>Dia_do_Mês</th>\n",
       "      <td>608.0</td>\n",
       "      <td>15.53</td>\n",
       "      <td>8.81</td>\n",
       "      <td>1.00</td>\n",
       "      <td>8.00</td>\n",
       "      <td>15.50</td>\n",
       "      <td>23.00</td>\n",
       "      <td>31.00</td>\n",
       "    </tr>\n",
       "    <tr>\n",
       "      <th>Dia_da_Semana_Numero</th>\n",
       "      <td>608.0</td>\n",
       "      <td>3.00</td>\n",
       "      <td>1.99</td>\n",
       "      <td>0.00</td>\n",
       "      <td>1.00</td>\n",
       "      <td>3.00</td>\n",
       "      <td>5.00</td>\n",
       "      <td>6.00</td>\n",
       "    </tr>\n",
       "  </tbody>\n",
       "</table>\n",
       "</div>"
      ],
      "text/plain": [
       "                      count      mean       std      min      25%       50%  \\\n",
       "PAX                   608.0    615.08    577.93    18.00    78.00    334.50   \n",
       "Monetário Vendido     608.0  18446.39  14460.58  1126.69  4383.74  16457.54   \n",
       "RPK                   608.0  34496.96  32220.57  1127.00  4579.00  19990.50   \n",
       "Ano                   608.0   2016.60      0.49  2016.00  2016.00   2017.00   \n",
       "Mês                   608.0      5.83      4.71     1.00     2.00      3.00   \n",
       "Dia_do_Mês            608.0     15.53      8.81     1.00     8.00     15.50   \n",
       "Dia_da_Semana_Numero  608.0      3.00      1.99     0.00     1.00      3.00   \n",
       "\n",
       "                           75%        max  \n",
       "PAX                     953.25    2697.00  \n",
       "Monetário Vendido     25017.52   60758.26  \n",
       "RPK                   53505.75  152788.00  \n",
       "Ano                    2017.00    2017.00  \n",
       "Mês                      11.00      12.00  \n",
       "Dia_do_Mês               23.00      31.00  \n",
       "Dia_da_Semana_Numero      5.00       6.00  "
      ]
     },
     "execution_count": 317,
     "metadata": {
      "tags": []
     },
     "output_type": "execute_result"
    }
   ],
   "source": [
    "temp_Ellipsis.describe().T"
   ]
  },
  {
   "cell_type": "code",
   "execution_count": null,
   "metadata": {
    "colab": {
     "base_uri": "https://localhost:8080/",
     "height": 266
    },
    "id": "O9IjuCak71ry",
    "outputId": "ebda3b49-ae92-4a1f-c789-35cabd4fd020"
   },
   "outputs": [
    {
     "data": {
      "text/html": [
       "<div>\n",
       "<style scoped>\n",
       "    .dataframe tbody tr th:only-of-type {\n",
       "        vertical-align: middle;\n",
       "    }\n",
       "\n",
       "    .dataframe tbody tr th {\n",
       "        vertical-align: top;\n",
       "    }\n",
       "\n",
       "    .dataframe thead th {\n",
       "        text-align: right;\n",
       "    }\n",
       "</style>\n",
       "<table border=\"1\" class=\"dataframe\">\n",
       "  <thead>\n",
       "    <tr style=\"text-align: right;\">\n",
       "      <th></th>\n",
       "      <th>count</th>\n",
       "      <th>mean</th>\n",
       "      <th>std</th>\n",
       "      <th>min</th>\n",
       "      <th>25%</th>\n",
       "      <th>50%</th>\n",
       "      <th>75%</th>\n",
       "      <th>max</th>\n",
       "    </tr>\n",
       "  </thead>\n",
       "  <tbody>\n",
       "    <tr>\n",
       "      <th>PAX</th>\n",
       "      <td>608.0</td>\n",
       "      <td>839.90</td>\n",
       "      <td>823.41</td>\n",
       "      <td>40.00</td>\n",
       "      <td>96.00</td>\n",
       "      <td>429.00</td>\n",
       "      <td>1330.75</td>\n",
       "      <td>4191.00</td>\n",
       "    </tr>\n",
       "    <tr>\n",
       "      <th>Monetário Vendido</th>\n",
       "      <td>608.0</td>\n",
       "      <td>24273.38</td>\n",
       "      <td>21818.45</td>\n",
       "      <td>1497.62</td>\n",
       "      <td>5267.68</td>\n",
       "      <td>18908.01</td>\n",
       "      <td>30509.54</td>\n",
       "      <td>92007.17</td>\n",
       "    </tr>\n",
       "    <tr>\n",
       "      <th>RPK</th>\n",
       "      <td>608.0</td>\n",
       "      <td>39919.86</td>\n",
       "      <td>39204.33</td>\n",
       "      <td>1932.00</td>\n",
       "      <td>4551.25</td>\n",
       "      <td>20010.00</td>\n",
       "      <td>63788.25</td>\n",
       "      <td>209750.00</td>\n",
       "    </tr>\n",
       "    <tr>\n",
       "      <th>Ano</th>\n",
       "      <td>608.0</td>\n",
       "      <td>2016.60</td>\n",
       "      <td>0.49</td>\n",
       "      <td>2016.00</td>\n",
       "      <td>2016.00</td>\n",
       "      <td>2017.00</td>\n",
       "      <td>2017.00</td>\n",
       "      <td>2017.00</td>\n",
       "    </tr>\n",
       "    <tr>\n",
       "      <th>Mês</th>\n",
       "      <td>608.0</td>\n",
       "      <td>5.83</td>\n",
       "      <td>4.71</td>\n",
       "      <td>1.00</td>\n",
       "      <td>2.00</td>\n",
       "      <td>3.00</td>\n",
       "      <td>11.00</td>\n",
       "      <td>12.00</td>\n",
       "    </tr>\n",
       "    <tr>\n",
       "      <th>Dia_do_Mês</th>\n",
       "      <td>608.0</td>\n",
       "      <td>15.53</td>\n",
       "      <td>8.81</td>\n",
       "      <td>1.00</td>\n",
       "      <td>8.00</td>\n",
       "      <td>15.50</td>\n",
       "      <td>23.00</td>\n",
       "      <td>31.00</td>\n",
       "    </tr>\n",
       "    <tr>\n",
       "      <th>Dia_da_Semana_Numero</th>\n",
       "      <td>608.0</td>\n",
       "      <td>3.00</td>\n",
       "      <td>1.99</td>\n",
       "      <td>0.00</td>\n",
       "      <td>1.00</td>\n",
       "      <td>3.00</td>\n",
       "      <td>5.00</td>\n",
       "      <td>6.00</td>\n",
       "    </tr>\n",
       "  </tbody>\n",
       "</table>\n",
       "</div>"
      ],
      "text/plain": [
       "                      count      mean       std      min      25%       50%  \\\n",
       "PAX                   608.0    839.90    823.41    40.00    96.00    429.00   \n",
       "Monetário Vendido     608.0  24273.38  21818.45  1497.62  5267.68  18908.01   \n",
       "RPK                   608.0  39919.86  39204.33  1932.00  4551.25  20010.00   \n",
       "Ano                   608.0   2016.60      0.49  2016.00  2016.00   2017.00   \n",
       "Mês                   608.0      5.83      4.71     1.00     2.00      3.00   \n",
       "Dia_do_Mês            608.0     15.53      8.81     1.00     8.00     15.50   \n",
       "Dia_da_Semana_Numero  608.0      3.00      1.99     0.00     1.00      3.00   \n",
       "\n",
       "                           75%        max  \n",
       "PAX                    1330.75    4191.00  \n",
       "Monetário Vendido     30509.54   92007.17  \n",
       "RPK                   63788.25  209750.00  \n",
       "Ano                    2017.00    2017.00  \n",
       "Mês                      11.00      12.00  \n",
       "Dia_do_Mês               23.00      31.00  \n",
       "Dia_da_Semana_Numero      5.00       6.00  "
      ]
     },
     "execution_count": 318,
     "metadata": {
      "tags": []
     },
     "output_type": "execute_result"
    }
   ],
   "source": [
    "temp_Vast.describe().T"
   ]
  },
  {
   "cell_type": "code",
   "execution_count": null,
   "metadata": {
    "colab": {
     "base_uri": "https://localhost:8080/",
     "height": 266
    },
    "id": "cZix_T2n7yBr",
    "outputId": "99f12273-d487-473b-cd17-4c1caee202e5"
   },
   "outputs": [
    {
     "data": {
      "text/html": [
       "<div>\n",
       "<style scoped>\n",
       "    .dataframe tbody tr th:only-of-type {\n",
       "        vertical-align: middle;\n",
       "    }\n",
       "\n",
       "    .dataframe tbody tr th {\n",
       "        vertical-align: top;\n",
       "    }\n",
       "\n",
       "    .dataframe thead th {\n",
       "        text-align: right;\n",
       "    }\n",
       "</style>\n",
       "<table border=\"1\" class=\"dataframe\">\n",
       "  <thead>\n",
       "    <tr style=\"text-align: right;\">\n",
       "      <th></th>\n",
       "      <th>count</th>\n",
       "      <th>mean</th>\n",
       "      <th>std</th>\n",
       "      <th>min</th>\n",
       "      <th>25%</th>\n",
       "      <th>50%</th>\n",
       "      <th>75%</th>\n",
       "      <th>max</th>\n",
       "    </tr>\n",
       "  </thead>\n",
       "  <tbody>\n",
       "    <tr>\n",
       "      <th>PAX</th>\n",
       "      <td>608.0</td>\n",
       "      <td>780.24</td>\n",
       "      <td>804.76</td>\n",
       "      <td>39.00</td>\n",
       "      <td>121.00</td>\n",
       "      <td>461.00</td>\n",
       "      <td>1264.25</td>\n",
       "      <td>4705.00</td>\n",
       "    </tr>\n",
       "    <tr>\n",
       "      <th>Monetário Vendido</th>\n",
       "      <td>608.0</td>\n",
       "      <td>31592.25</td>\n",
       "      <td>27062.72</td>\n",
       "      <td>2249.26</td>\n",
       "      <td>7654.44</td>\n",
       "      <td>21175.89</td>\n",
       "      <td>48186.69</td>\n",
       "      <td>144890.73</td>\n",
       "    </tr>\n",
       "    <tr>\n",
       "      <th>RPK</th>\n",
       "      <td>608.0</td>\n",
       "      <td>113754.87</td>\n",
       "      <td>118382.80</td>\n",
       "      <td>5471.00</td>\n",
       "      <td>18211.25</td>\n",
       "      <td>62085.00</td>\n",
       "      <td>180144.50</td>\n",
       "      <td>695824.00</td>\n",
       "    </tr>\n",
       "    <tr>\n",
       "      <th>Ano</th>\n",
       "      <td>608.0</td>\n",
       "      <td>2016.60</td>\n",
       "      <td>0.49</td>\n",
       "      <td>2016.00</td>\n",
       "      <td>2016.00</td>\n",
       "      <td>2017.00</td>\n",
       "      <td>2017.00</td>\n",
       "      <td>2017.00</td>\n",
       "    </tr>\n",
       "    <tr>\n",
       "      <th>Mês</th>\n",
       "      <td>608.0</td>\n",
       "      <td>5.83</td>\n",
       "      <td>4.71</td>\n",
       "      <td>1.00</td>\n",
       "      <td>2.00</td>\n",
       "      <td>3.00</td>\n",
       "      <td>11.00</td>\n",
       "      <td>12.00</td>\n",
       "    </tr>\n",
       "    <tr>\n",
       "      <th>Dia_do_Mês</th>\n",
       "      <td>608.0</td>\n",
       "      <td>15.53</td>\n",
       "      <td>8.81</td>\n",
       "      <td>1.00</td>\n",
       "      <td>8.00</td>\n",
       "      <td>15.50</td>\n",
       "      <td>23.00</td>\n",
       "      <td>31.00</td>\n",
       "    </tr>\n",
       "    <tr>\n",
       "      <th>Dia_da_Semana_Numero</th>\n",
       "      <td>608.0</td>\n",
       "      <td>3.00</td>\n",
       "      <td>1.99</td>\n",
       "      <td>0.00</td>\n",
       "      <td>1.00</td>\n",
       "      <td>3.00</td>\n",
       "      <td>5.00</td>\n",
       "      <td>6.00</td>\n",
       "    </tr>\n",
       "  </tbody>\n",
       "</table>\n",
       "</div>"
      ],
      "text/plain": [
       "                      count       mean        std      min       25%  \\\n",
       "PAX                   608.0     780.24     804.76    39.00    121.00   \n",
       "Monetário Vendido     608.0   31592.25   27062.72  2249.26   7654.44   \n",
       "RPK                   608.0  113754.87  118382.80  5471.00  18211.25   \n",
       "Ano                   608.0    2016.60       0.49  2016.00   2016.00   \n",
       "Mês                   608.0       5.83       4.71     1.00      2.00   \n",
       "Dia_do_Mês            608.0      15.53       8.81     1.00      8.00   \n",
       "Dia_da_Semana_Numero  608.0       3.00       1.99     0.00      1.00   \n",
       "\n",
       "                           50%        75%        max  \n",
       "PAX                     461.00    1264.25    4705.00  \n",
       "Monetário Vendido     21175.89   48186.69  144890.73  \n",
       "RPK                   62085.00  180144.50  695824.00  \n",
       "Ano                    2017.00    2017.00    2017.00  \n",
       "Mês                       3.00      11.00      12.00  \n",
       "Dia_do_Mês               15.50      23.00      31.00  \n",
       "Dia_da_Semana_Numero      3.00       5.00       6.00  "
      ]
     },
     "execution_count": 319,
     "metadata": {
      "tags": []
     },
     "output_type": "execute_result"
    }
   ],
   "source": [
    "temp_Arena.describe().T"
   ]
  },
  {
   "cell_type": "code",
   "execution_count": null,
   "metadata": {
    "colab": {
     "base_uri": "https://localhost:8080/",
     "height": 266
    },
    "id": "eB0SBHWuoXG_",
    "outputId": "ff2e5b82-f793-40ab-f804-ec219e8d6a41"
   },
   "outputs": [
    {
     "data": {
      "text/html": [
       "<div>\n",
       "<style scoped>\n",
       "    .dataframe tbody tr th:only-of-type {\n",
       "        vertical-align: middle;\n",
       "    }\n",
       "\n",
       "    .dataframe tbody tr th {\n",
       "        vertical-align: top;\n",
       "    }\n",
       "\n",
       "    .dataframe thead th {\n",
       "        text-align: right;\n",
       "    }\n",
       "</style>\n",
       "<table border=\"1\" class=\"dataframe\">\n",
       "  <thead>\n",
       "    <tr style=\"text-align: right;\">\n",
       "      <th></th>\n",
       "      <th>count</th>\n",
       "      <th>mean</th>\n",
       "      <th>std</th>\n",
       "      <th>min</th>\n",
       "      <th>25%</th>\n",
       "      <th>50%</th>\n",
       "      <th>75%</th>\n",
       "      <th>max</th>\n",
       "    </tr>\n",
       "  </thead>\n",
       "  <tbody>\n",
       "    <tr>\n",
       "      <th>PAX</th>\n",
       "      <td>608.0</td>\n",
       "      <td>656.78</td>\n",
       "      <td>690.23</td>\n",
       "      <td>19.00</td>\n",
       "      <td>84.50</td>\n",
       "      <td>327.50</td>\n",
       "      <td>1034.00</td>\n",
       "      <td>3961.00</td>\n",
       "    </tr>\n",
       "    <tr>\n",
       "      <th>Monetário Vendido</th>\n",
       "      <td>608.0</td>\n",
       "      <td>24242.94</td>\n",
       "      <td>22567.80</td>\n",
       "      <td>1041.54</td>\n",
       "      <td>5434.19</td>\n",
       "      <td>13115.23</td>\n",
       "      <td>34991.99</td>\n",
       "      <td>94836.67</td>\n",
       "    </tr>\n",
       "    <tr>\n",
       "      <th>RPK</th>\n",
       "      <td>608.0</td>\n",
       "      <td>78781.87</td>\n",
       "      <td>84845.12</td>\n",
       "      <td>2425.00</td>\n",
       "      <td>10556.00</td>\n",
       "      <td>35823.00</td>\n",
       "      <td>120343.75</td>\n",
       "      <td>537259.00</td>\n",
       "    </tr>\n",
       "    <tr>\n",
       "      <th>Ano</th>\n",
       "      <td>608.0</td>\n",
       "      <td>2016.60</td>\n",
       "      <td>0.49</td>\n",
       "      <td>2016.00</td>\n",
       "      <td>2016.00</td>\n",
       "      <td>2017.00</td>\n",
       "      <td>2017.00</td>\n",
       "      <td>2017.00</td>\n",
       "    </tr>\n",
       "    <tr>\n",
       "      <th>Mês</th>\n",
       "      <td>608.0</td>\n",
       "      <td>5.83</td>\n",
       "      <td>4.71</td>\n",
       "      <td>1.00</td>\n",
       "      <td>2.00</td>\n",
       "      <td>3.00</td>\n",
       "      <td>11.00</td>\n",
       "      <td>12.00</td>\n",
       "    </tr>\n",
       "    <tr>\n",
       "      <th>Dia_do_Mês</th>\n",
       "      <td>608.0</td>\n",
       "      <td>15.53</td>\n",
       "      <td>8.81</td>\n",
       "      <td>1.00</td>\n",
       "      <td>8.00</td>\n",
       "      <td>15.50</td>\n",
       "      <td>23.00</td>\n",
       "      <td>31.00</td>\n",
       "    </tr>\n",
       "    <tr>\n",
       "      <th>Dia_da_Semana_Numero</th>\n",
       "      <td>608.0</td>\n",
       "      <td>3.00</td>\n",
       "      <td>1.99</td>\n",
       "      <td>0.00</td>\n",
       "      <td>1.00</td>\n",
       "      <td>3.00</td>\n",
       "      <td>5.00</td>\n",
       "      <td>6.00</td>\n",
       "    </tr>\n",
       "  </tbody>\n",
       "</table>\n",
       "</div>"
      ],
      "text/plain": [
       "                      count      mean       std      min       25%       50%  \\\n",
       "PAX                   608.0    656.78    690.23    19.00     84.50    327.50   \n",
       "Monetário Vendido     608.0  24242.94  22567.80  1041.54   5434.19  13115.23   \n",
       "RPK                   608.0  78781.87  84845.12  2425.00  10556.00  35823.00   \n",
       "Ano                   608.0   2016.60      0.49  2016.00   2016.00   2017.00   \n",
       "Mês                   608.0      5.83      4.71     1.00      2.00      3.00   \n",
       "Dia_do_Mês            608.0     15.53      8.81     1.00      8.00     15.50   \n",
       "Dia_da_Semana_Numero  608.0      3.00      1.99     0.00      1.00      3.00   \n",
       "\n",
       "                            75%        max  \n",
       "PAX                     1034.00    3961.00  \n",
       "Monetário Vendido      34991.99   94836.67  \n",
       "RPK                   120343.75  537259.00  \n",
       "Ano                     2017.00    2017.00  \n",
       "Mês                       11.00      12.00  \n",
       "Dia_do_Mês                23.00      31.00  \n",
       "Dia_da_Semana_Numero       5.00       6.00  "
      ]
     },
     "execution_count": 320,
     "metadata": {
      "tags": []
     },
     "output_type": "execute_result"
    }
   ],
   "source": [
    "temp_Mindscape.describe().T"
   ]
  },
  {
   "cell_type": "markdown",
   "metadata": {
    "id": "-XpByOJuAm-f"
   },
   "source": [
    "### Valor do Desvio Padrão nas colunas PAX, Monetário Vendido e RPK"
   ]
  },
  {
   "cell_type": "code",
   "execution_count": null,
   "metadata": {
    "id": "sLi6IaXj9sL7"
   },
   "outputs": [],
   "source": [
    "##  local              PAX     Monetario Vendido    RPK \r\n",
    "### Mindscape          690,23   22242,94             84845,12\r\n",
    "### Arena              804,76   27062,72             118382.80\r\n",
    "### Vast               823,41   21818,45             39204,33\r\n",
    "### Ellipsis           577,93   16460,58             32220,57"
   ]
  },
  {
   "cell_type": "markdown",
   "metadata": {
    "id": "AtRGVyJ357cL"
   },
   "source": [
    "#### Todos conjuntos de dados apresentam grande variação\r\n",
    "#### Analisando: PAX, Monetário Vendido e RPK, foram encontrados altos valores de desvio padrão (std) que podem influenciar nos resultados da análise. A distribuição dos dados em cada conjunto também influência, pois alguns algoritmos esperam os dados numa forma normal.\r\n",
    "#### Alguns algoritmos são baseados em distância (svm, knn, regressões lineares e não lineares, kmeans, redes neurais, etc) são bastante sensíveis a variações de distância, justamente porque os algoritmos apresentam cálculos de distância. Já todos os que são de árvores de decisão simplesmente comparam (através de regras), sem levar em conta cálculos de distâncias e assim não precisam de normalização.\r\n",
    "#### O conjunto de dados de Arena apresenta um alto desvio padrão e de acordo com o algoritmo usado pode ser considerado o mais critico, pois irá impactar nos resultados finais. "
   ]
  },
  {
   "cell_type": "markdown",
   "metadata": {
    "id": "6Ygi-DSSvJyl"
   },
   "source": [
    "### 6 - Criar modelo relacionando o comportamento de venda com variaveis não apresentada nos dados (Ex : PIB, Dolar, e etc)"
   ]
  },
  {
   "cell_type": "markdown",
   "metadata": {
    "id": "kh-Lt0mQ6Kd3"
   },
   "source": [
    "### Incluindo a cotação do Dolar no periodo do dataset\r\n",
    "#### A cotação foi feita através do site: \r\n",
    "#### https://olinda.bcb.gov.br/olinda/servico/PTAX/versao/v1/aplicacao#!/recursos"
   ]
  },
  {
   "cell_type": "code",
   "execution_count": null,
   "metadata": {
    "id": "GdvqBFy23aXx"
   },
   "outputs": [],
   "source": [
    "dolar=pd.read_csv(\"/content/drive/MyDrive/Colab Notebooks/Dataset/Gol/cotacao_dollar.csv\", decimal=\",\")"
   ]
  },
  {
   "cell_type": "code",
   "execution_count": null,
   "metadata": {
    "id": "5_s4NR7I3DCU"
   },
   "outputs": [],
   "source": [
    "dolar['Data Venda'] = pd.to_datetime(dolar['dataHoraCotacao'])\r\n",
    "dolar['Data Venda'] = dollar['Data Venda'].dt.strftime('%Y-%m-%d')\r\n",
    "dolar['Data Venda'] = pd.to_datetime(df['Data Venda'], format='%m/%d/%Y')\r\n",
    "del dolar['dataHoraCotacao']"
   ]
  },
  {
   "cell_type": "code",
   "execution_count": null,
   "metadata": {
    "id": "XE3eJ2Tf2kIO"
   },
   "outputs": [],
   "source": [
    "df2 = pd.merge(df, dolar)"
   ]
  },
  {
   "cell_type": "code",
   "execution_count": null,
   "metadata": {
    "colab": {
     "base_uri": "https://localhost:8080/",
     "height": 204
    },
    "id": "poRE9ZBG7HhM",
    "outputId": "5079dcab-ea80-4e76-ac7d-e427ce6a5122"
   },
   "outputs": [
    {
     "data": {
      "text/html": [
       "<div>\n",
       "<style scoped>\n",
       "    .dataframe tbody tr th:only-of-type {\n",
       "        vertical-align: middle;\n",
       "    }\n",
       "\n",
       "    .dataframe tbody tr th {\n",
       "        vertical-align: top;\n",
       "    }\n",
       "\n",
       "    .dataframe thead th {\n",
       "        text-align: right;\n",
       "    }\n",
       "</style>\n",
       "<table border=\"1\" class=\"dataframe\">\n",
       "  <thead>\n",
       "    <tr style=\"text-align: right;\">\n",
       "      <th></th>\n",
       "      <th>Data Venda</th>\n",
       "      <th>Canal de Venda</th>\n",
       "      <th>Local de Venda</th>\n",
       "      <th>PAX</th>\n",
       "      <th>Monetário Vendido</th>\n",
       "      <th>RPK</th>\n",
       "      <th>Ano</th>\n",
       "      <th>Mês</th>\n",
       "      <th>Dia_do_Mês</th>\n",
       "      <th>Dia_da_Semana_Numero</th>\n",
       "      <th>Nome_do_Dia</th>\n",
       "      <th>cotacaoCompra</th>\n",
       "    </tr>\n",
       "  </thead>\n",
       "  <tbody>\n",
       "    <tr>\n",
       "      <th>0</th>\n",
       "      <td>2016-11-01</td>\n",
       "      <td>Telégrafo</td>\n",
       "      <td>Mindscape</td>\n",
       "      <td>30</td>\n",
       "      <td>2188.11</td>\n",
       "      <td>3476</td>\n",
       "      <td>2016</td>\n",
       "      <td>11</td>\n",
       "      <td>1</td>\n",
       "      <td>1</td>\n",
       "      <td>Terça</td>\n",
       "      <td>4.01</td>\n",
       "    </tr>\n",
       "    <tr>\n",
       "      <th>1</th>\n",
       "      <td>2016-11-01</td>\n",
       "      <td>Telégrafo</td>\n",
       "      <td>Mindscape</td>\n",
       "      <td>30</td>\n",
       "      <td>2188.11</td>\n",
       "      <td>3476</td>\n",
       "      <td>2016</td>\n",
       "      <td>11</td>\n",
       "      <td>1</td>\n",
       "      <td>1</td>\n",
       "      <td>Terça</td>\n",
       "      <td>4.03</td>\n",
       "    </tr>\n",
       "    <tr>\n",
       "      <th>2</th>\n",
       "      <td>2016-11-01</td>\n",
       "      <td>Telégrafo</td>\n",
       "      <td>Mindscape</td>\n",
       "      <td>30</td>\n",
       "      <td>2188.11</td>\n",
       "      <td>3476</td>\n",
       "      <td>2016</td>\n",
       "      <td>11</td>\n",
       "      <td>1</td>\n",
       "      <td>1</td>\n",
       "      <td>Terça</td>\n",
       "      <td>3.99</td>\n",
       "    </tr>\n",
       "    <tr>\n",
       "      <th>3</th>\n",
       "      <td>2016-11-01</td>\n",
       "      <td>Telégrafo</td>\n",
       "      <td>Mindscape</td>\n",
       "      <td>30</td>\n",
       "      <td>2188.11</td>\n",
       "      <td>3476</td>\n",
       "      <td>2016</td>\n",
       "      <td>11</td>\n",
       "      <td>1</td>\n",
       "      <td>1</td>\n",
       "      <td>Terça</td>\n",
       "      <td>4.02</td>\n",
       "    </tr>\n",
       "    <tr>\n",
       "      <th>4</th>\n",
       "      <td>2016-11-01</td>\n",
       "      <td>Telégrafo</td>\n",
       "      <td>Mindscape</td>\n",
       "      <td>30</td>\n",
       "      <td>2188.11</td>\n",
       "      <td>3476</td>\n",
       "      <td>2016</td>\n",
       "      <td>11</td>\n",
       "      <td>1</td>\n",
       "      <td>1</td>\n",
       "      <td>Terça</td>\n",
       "      <td>4.04</td>\n",
       "    </tr>\n",
       "  </tbody>\n",
       "</table>\n",
       "</div>"
      ],
      "text/plain": [
       "  Data Venda Canal de Venda Local de Venda  PAX  Monetário Vendido   RPK  \\\n",
       "0 2016-11-01      Telégrafo      Mindscape   30            2188.11  3476   \n",
       "1 2016-11-01      Telégrafo      Mindscape   30            2188.11  3476   \n",
       "2 2016-11-01      Telégrafo      Mindscape   30            2188.11  3476   \n",
       "3 2016-11-01      Telégrafo      Mindscape   30            2188.11  3476   \n",
       "4 2016-11-01      Telégrafo      Mindscape   30            2188.11  3476   \n",
       "\n",
       "    Ano  Mês  Dia_do_Mês  Dia_da_Semana_Numero Nome_do_Dia  cotacaoCompra  \n",
       "0  2016   11           1                     1       Terça           4.01  \n",
       "1  2016   11           1                     1       Terça           4.03  \n",
       "2  2016   11           1                     1       Terça           3.99  \n",
       "3  2016   11           1                     1       Terça           4.02  \n",
       "4  2016   11           1                     1       Terça           4.04  "
      ]
     },
     "execution_count": 325,
     "metadata": {
      "tags": []
     },
     "output_type": "execute_result"
    }
   ],
   "source": [
    "df2.head()"
   ]
  },
  {
   "cell_type": "markdown",
   "metadata": {
    "id": "Jm1YEPJJCZah"
   },
   "source": [
    "#### A coluna 'Data Venda' foi separada em Dia, Mês e Ano\r\n",
    "#### Portanto será removida do dataset"
   ]
  },
  {
   "cell_type": "code",
   "execution_count": null,
   "metadata": {
    "id": "bUJk8njIZoB6"
   },
   "outputs": [],
   "source": [
    "df2 = df2.drop(['Data Venda'], axis = 1)"
   ]
  },
  {
   "cell_type": "markdown",
   "metadata": {
    "id": "K9zyChKqCwlf"
   },
   "source": [
    "#### Separando o dataset pelos locais de venda"
   ]
  },
  {
   "cell_type": "code",
   "execution_count": null,
   "metadata": {
    "id": "pYhz2mhcYYe3"
   },
   "outputs": [],
   "source": [
    "temp2 = df2.copy()\r\n",
    "temp_Mindscape2 = df2.loc[temp2['Local de Venda']== \"Mindscape\"]\r\n",
    "df2_Mindscape = temp_Mindscape2.copy()\r\n",
    "#\r\n",
    "temp_Arena2 = df2.loc[temp2['Local de Venda']== \"Arena\"]\r\n",
    "df2_Arena2 = temp_Arena2.copy()\r\n",
    "#\r\n",
    "temp_Vast2 = df2.loc[temp2['Local de Venda']== \"Vast\"]\r\n",
    "df2_Vast2 = temp_Vast2.copy()\r\n",
    "#\r\n",
    "temp_Ellipsis2 = df2.loc[temp2['Local de Venda']== \"Ellipsis\"]\r\n",
    "df2_Ellipsis2 = temp_Ellipsis2.copy()"
   ]
  },
  {
   "cell_type": "markdown",
   "metadata": {
    "id": "Ypn-XmK-C5It"
   },
   "source": [
    "#### Dados devem ser numéricos para que possam usar usados na regressão\r\n",
    "#### A lib LabelEncoder fará isso"
   ]
  },
  {
   "cell_type": "code",
   "execution_count": null,
   "metadata": {
    "id": "RlF-pWwECJ6y"
   },
   "outputs": [],
   "source": [
    "le = preprocessing.LabelEncoder()"
   ]
  },
  {
   "cell_type": "markdown",
   "metadata": {
    "id": "Cc94gnDjDOjN"
   },
   "source": [
    "#### Filtrando as colunas tipo 'Object' que serão convertidas"
   ]
  },
  {
   "cell_type": "code",
   "execution_count": null,
   "metadata": {
    "id": "Q7DpjpyQSfA0"
   },
   "outputs": [],
   "source": [
    "objList = df2.select_dtypes(include = \"object\").columns"
   ]
  },
  {
   "cell_type": "code",
   "execution_count": null,
   "metadata": {
    "colab": {
     "base_uri": "https://localhost:8080/"
    },
    "id": "Nw_W5uLxSw4T",
    "outputId": "fbaeccc1-7400-4d7c-cbea-3c8fc7d8506e"
   },
   "outputs": [
    {
     "data": {
      "text/plain": [
       "Index(['Canal de Venda', 'Local de Venda', 'Nome_do_Dia'], dtype='object')"
      ]
     },
     "execution_count": 330,
     "metadata": {
      "tags": []
     },
     "output_type": "execute_result"
    }
   ],
   "source": [
    "objList"
   ]
  },
  {
   "cell_type": "markdown",
   "metadata": {
    "id": "iQDTafUQDfRd"
   },
   "source": [
    "#### As colunas listas em objList são convertidas"
   ]
  },
  {
   "cell_type": "code",
   "execution_count": null,
   "metadata": {
    "id": "OVohCuzzPuQc"
   },
   "outputs": [],
   "source": [
    "for feat in objList:\r\n",
    "    df2_Mindscape[feat] = le.fit_transform(temp_Mindscape2[feat].astype(str))\r\n",
    "    df2_Arena[feat] = le.fit_transform(temp_Arena2[feat].astype(str))\r\n",
    "    df2_Vast[feat] = le.fit_transform(temp_Vast2[feat].astype(str))\r\n",
    "    df2_Ellipsis[feat] = le.fit_transform(temp_Ellipsis2[feat].astype(str))"
   ]
  },
  {
   "cell_type": "markdown",
   "metadata": {
    "id": "G5Y4EiKs9D5e"
   },
   "source": [
    "## Treinamento e avaliação do modelo"
   ]
  },
  {
   "cell_type": "code",
   "execution_count": null,
   "metadata": {
    "id": "nwy3F4K-CX8g"
   },
   "outputs": [],
   "source": [
    "# Função irá receber os dados do Local de Venda, separar as variaveis independentes (X) \n",
    "# da variavel dependente (y). É feito um split em dados de treino e teste.\n",
    "# Os dados de treino passam pelo treino e transformação. Os modelos são treinado\n",
    "# usando normalized_x_train e y_train.\n",
    "# Antes da previsão com o modelo treinado, os dados de teste, x_test recebe a transformação aplicada\n",
    "# aos dados de treinamento.\n",
    "# A performance dos modelos é feita através do Coeficiente de Determinação - R2\n",
    "#\n",
    "# Retorna uma lista com a informação do local, do algoritmo usado e o score R2\n",
    "#\n",
    "def run_model(local,df):\n",
    "    print(\"Local de Venda:\", local,\"\\n\")   \n",
    "    nome_alg = ['RandomForestRegressor', 'DecisionTreeRegressor', 'KNeighborsRegressor', 'ExtraTreesRegressor']\n",
    "    modelos = [RandomForestRegressor(n_estimators=250),DecisionTreeRegressor(), KNeighborsRegressor(), ExtraTreesRegressor(n_estimators=150)]\n",
    "    \n",
    "    # Separando dados e target\n",
    "    X = df.drop(['Monetário Vendido'], axis=1)\n",
    "    y = df['Monetário Vendido']\n",
    "\n",
    "    x_train, x_test, y_train, y_test = train_test_split(X, y, test_size=0.3, random_state=1)\n",
    "\n",
    "    scaler = StandardScaler()\n",
    "\n",
    "    normalized_x_train = pd.DataFrame(scaler.fit_transform(x_train), columns = x_train.columns)\n",
    "    \n",
    "    # Fit do modelo\n",
    "    for i in range(len(modelos)):\n",
    "        modelos[i].fit(normalized_x_train, y_train)\n",
    "\n",
    "    normalized_x_test = pd.DataFrame(scaler.transform(x_test), columns = x_test.columns)\n",
    "     \n",
    "    # Predição no dataset de treino\n",
    "    preds=[]\n",
    "    for i in range(len(modelos)):\n",
    "        preds.append(modelos[i].predict(normalized_x_test))\n",
    "    \n",
    "    # Exibir o relatorio do modelo\n",
    "    algoritmo=[]\n",
    "    previsoes=[]\n",
    "    for i in range(len(preds)):\n",
    "        print(\"Modelo: \", nome_alg[i],\"--> R2 : %.4g\" % r2_score(y_test, preds[i]))\n",
    "        algoritmo.append(nome_alg[i])\n",
    "        previsoes.append(r2_score(y_test, preds[i]))\n",
    "    return ([local, algoritmo, previsoes])"
   ]
  },
  {
   "cell_type": "code",
   "execution_count": null,
   "metadata": {
    "colab": {
     "base_uri": "https://localhost:8080/"
    },
    "id": "l2g7f2s5LfUA",
    "outputId": "832a0c28-ac9c-4e71-a811-70c4238b26e4"
   },
   "outputs": [
    {
     "name": "stdout",
     "output_type": "stream",
     "text": [
      "Local de Venda: Mindscape \n",
      "\n",
      "Modelo:  RandomForestRegressor --> R2 : 0.9999\n",
      "Modelo:  DecisionTreeRegressor --> R2 : 0.9999\n",
      "Modelo:  KNeighborsRegressor --> R2 : 0.9998\n",
      "Modelo:  ExtraTreesRegressor --> R2 : 1\n"
     ]
    }
   ],
   "source": [
    "\r\n",
    "out1 = run_model('Mindscape', df2_Mindscape)"
   ]
  },
  {
   "cell_type": "code",
   "execution_count": null,
   "metadata": {
    "colab": {
     "base_uri": "https://localhost:8080/"
    },
    "id": "IZTznyaXk_ak",
    "outputId": "ef73172f-fb6e-4e53-eadb-7e11dc5b26ba"
   },
   "outputs": [
    {
     "name": "stdout",
     "output_type": "stream",
     "text": [
      "Local de Venda: Arena \n",
      "\n",
      "Modelo:  RandomForestRegressor --> R2 : 1\n",
      "Modelo:  DecisionTreeRegressor --> R2 : 1\n",
      "Modelo:  KNeighborsRegressor --> R2 : 1\n",
      "Modelo:  ExtraTreesRegressor --> R2 : 1\n"
     ]
    }
   ],
   "source": [
    "\r\n",
    "out2 = run_model('Arena', df2_Arena)"
   ]
  },
  {
   "cell_type": "code",
   "execution_count": null,
   "metadata": {
    "colab": {
     "base_uri": "https://localhost:8080/"
    },
    "id": "UgTZrDLclHJF",
    "outputId": "dda93909-a7b7-42cd-d7c4-bc9df5b57c21"
   },
   "outputs": [
    {
     "name": "stdout",
     "output_type": "stream",
     "text": [
      "Local de Venda: Vast \n",
      "\n",
      "Modelo:  RandomForestRegressor --> R2 : 1\n",
      "Modelo:  DecisionTreeRegressor --> R2 : 1\n",
      "Modelo:  KNeighborsRegressor --> R2 : 0.9993\n",
      "Modelo:  ExtraTreesRegressor --> R2 : 1\n"
     ]
    }
   ],
   "source": [
    "\r\n",
    "out3  = run_model('Vast', df2_Vast)"
   ]
  },
  {
   "cell_type": "code",
   "execution_count": null,
   "metadata": {
    "colab": {
     "base_uri": "https://localhost:8080/"
    },
    "id": "qOduvfGElN8v",
    "outputId": "88b5df08-4c2a-4359-daa3-60c489a5f529"
   },
   "outputs": [
    {
     "name": "stdout",
     "output_type": "stream",
     "text": [
      "Local de Venda: Ellipsis \n",
      "\n",
      "Modelo:  RandomForestRegressor --> R2 : 1\n",
      "Modelo:  DecisionTreeRegressor --> R2 : 1\n",
      "Modelo:  KNeighborsRegressor --> R2 : 0.9996\n",
      "Modelo:  ExtraTreesRegressor --> R2 : 1\n"
     ]
    }
   ],
   "source": [
    "\r\n",
    "out4 = run_model('Ellipsis', df2_Ellipsis)"
   ]
  },
  {
   "cell_type": "code",
   "execution_count": null,
   "metadata": {
    "colab": {
     "base_uri": "https://localhost:8080/",
     "height": 545
    },
    "id": "TynnptKCsNww",
    "outputId": "036d339c-a340-4fd2-9b15-d6d0a7bdecc5"
   },
   "outputs": [
    {
     "data": {
      "text/html": [
       "<div>\n",
       "<style scoped>\n",
       "    .dataframe tbody tr th:only-of-type {\n",
       "        vertical-align: middle;\n",
       "    }\n",
       "\n",
       "    .dataframe tbody tr th {\n",
       "        vertical-align: top;\n",
       "    }\n",
       "\n",
       "    .dataframe thead th {\n",
       "        text-align: right;\n",
       "    }\n",
       "</style>\n",
       "<table border=\"1\" class=\"dataframe\">\n",
       "  <thead>\n",
       "    <tr style=\"text-align: right;\">\n",
       "      <th></th>\n",
       "      <th>local</th>\n",
       "      <th>modelo</th>\n",
       "      <th>R2</th>\n",
       "    </tr>\n",
       "  </thead>\n",
       "  <tbody>\n",
       "    <tr>\n",
       "      <th>0</th>\n",
       "      <td>Mindscape</td>\n",
       "      <td>RandomForestRegressor</td>\n",
       "      <td>1.0</td>\n",
       "    </tr>\n",
       "    <tr>\n",
       "      <th>1</th>\n",
       "      <td>Mindscape</td>\n",
       "      <td>DecisionTreeRegressor</td>\n",
       "      <td>1.0</td>\n",
       "    </tr>\n",
       "    <tr>\n",
       "      <th>2</th>\n",
       "      <td>Mindscape</td>\n",
       "      <td>KNeighborsRegressor</td>\n",
       "      <td>1.0</td>\n",
       "    </tr>\n",
       "    <tr>\n",
       "      <th>3</th>\n",
       "      <td>Mindscape</td>\n",
       "      <td>ExtraTreesRegressor</td>\n",
       "      <td>1.0</td>\n",
       "    </tr>\n",
       "    <tr>\n",
       "      <th>4</th>\n",
       "      <td>Arena</td>\n",
       "      <td>DecisionTreeRegressor</td>\n",
       "      <td>1.0</td>\n",
       "    </tr>\n",
       "    <tr>\n",
       "      <th>5</th>\n",
       "      <td>Arena</td>\n",
       "      <td>DecisionTreeRegressor</td>\n",
       "      <td>1.0</td>\n",
       "    </tr>\n",
       "    <tr>\n",
       "      <th>6</th>\n",
       "      <td>Arena</td>\n",
       "      <td>KNeighborsRegressor</td>\n",
       "      <td>1.0</td>\n",
       "    </tr>\n",
       "    <tr>\n",
       "      <th>7</th>\n",
       "      <td>Arena</td>\n",
       "      <td>ExtraTreesRegressor</td>\n",
       "      <td>1.0</td>\n",
       "    </tr>\n",
       "    <tr>\n",
       "      <th>8</th>\n",
       "      <td>Vast</td>\n",
       "      <td>RandomForestRegressor</td>\n",
       "      <td>1.0</td>\n",
       "    </tr>\n",
       "    <tr>\n",
       "      <th>9</th>\n",
       "      <td>Vast</td>\n",
       "      <td>DecisionTreeRegressor</td>\n",
       "      <td>1.0</td>\n",
       "    </tr>\n",
       "    <tr>\n",
       "      <th>10</th>\n",
       "      <td>Vast</td>\n",
       "      <td>KNeighborsRegressor</td>\n",
       "      <td>1.0</td>\n",
       "    </tr>\n",
       "    <tr>\n",
       "      <th>11</th>\n",
       "      <td>Vast</td>\n",
       "      <td>ExtraTreesRegressor</td>\n",
       "      <td>1.0</td>\n",
       "    </tr>\n",
       "    <tr>\n",
       "      <th>12</th>\n",
       "      <td>Ellipsis</td>\n",
       "      <td>RandomForestRegressor</td>\n",
       "      <td>1.0</td>\n",
       "    </tr>\n",
       "    <tr>\n",
       "      <th>13</th>\n",
       "      <td>Ellipsis</td>\n",
       "      <td>DecisionTreeRegressor</td>\n",
       "      <td>1.0</td>\n",
       "    </tr>\n",
       "    <tr>\n",
       "      <th>14</th>\n",
       "      <td>Ellipsis</td>\n",
       "      <td>KNeighborsRegressor</td>\n",
       "      <td>1.0</td>\n",
       "    </tr>\n",
       "    <tr>\n",
       "      <th>15</th>\n",
       "      <td>Ellipsis</td>\n",
       "      <td>ExtraTreesRegressor</td>\n",
       "      <td>1.0</td>\n",
       "    </tr>\n",
       "  </tbody>\n",
       "</table>\n",
       "</div>"
      ],
      "text/plain": [
       "        local                 modelo   R2\n",
       "0   Mindscape  RandomForestRegressor  1.0\n",
       "1   Mindscape  DecisionTreeRegressor  1.0\n",
       "2   Mindscape    KNeighborsRegressor  1.0\n",
       "3   Mindscape    ExtraTreesRegressor  1.0\n",
       "4       Arena  DecisionTreeRegressor  1.0\n",
       "5       Arena  DecisionTreeRegressor  1.0\n",
       "6       Arena    KNeighborsRegressor  1.0\n",
       "7       Arena    ExtraTreesRegressor  1.0\n",
       "8        Vast  RandomForestRegressor  1.0\n",
       "9        Vast  DecisionTreeRegressor  1.0\n",
       "10       Vast    KNeighborsRegressor  1.0\n",
       "11       Vast    ExtraTreesRegressor  1.0\n",
       "12   Ellipsis  RandomForestRegressor  1.0\n",
       "13   Ellipsis  DecisionTreeRegressor  1.0\n",
       "14   Ellipsis    KNeighborsRegressor  1.0\n",
       "15   Ellipsis    ExtraTreesRegressor  1.0"
      ]
     },
     "execution_count": 337,
     "metadata": {
      "tags": []
     },
     "output_type": "execute_result"
    }
   ],
   "source": [
    "data = { 'local': [out1[0],out1[0],out1[0],out1[0],\r\n",
    "                   out2[0],out2[0],out2[0],out2[0],\r\n",
    "                   out3[0],out3[0],out3[0],out3[0],\r\n",
    "                   out4[0],out4[0],out4[0],out4[0]],\r\n",
    "        \r\n",
    "         'modelo': [out1[1][0], out1[1][1], out1[1][2], out1[1][3],\r\n",
    "                    out2[1][1], out2[1][1], out2[1][2], out2[1][3],\r\n",
    "                    out3[1][0], out3[1][1], out3[1][2], out3[1][3],\r\n",
    "                    out4[1][0], out4[1][1], out4[1][2], out4[1][3]],\r\n",
    "        \r\n",
    "        'R2': [out1[2][0],out1[2][1], out1[2][2], out1[2][3],\r\n",
    "              out2[2][0],out2[2][1], out2[2][2], out2[2][3],\r\n",
    "              out3[2][0],out3[2][1], out3[2][2], out3[2][3],\r\n",
    "              out4[2][0],out4[2][1], out4[2][2], out4[2][3]]}        \r\n",
    "      \r\n",
    "df_previsoes = pd.DataFrame(data, columns=['local', 'modelo', 'R2'])\r\n",
    "df_previsoes"
   ]
  }
 ],
 "metadata": {
  "anaconda-cloud": {},
  "colab": {
   "collapsed_sections": [
    "-jnJNDJqp1bm",
    "IsZbu165q0uA",
    "8acfBqTQqTlx",
    "G5Y4EiKs9D5e",
    "R5Z_a3O7GUVo",
    "hm75NaWb6RiU",
    "jSPmcvN36Rih",
    "kvhUKy2L6Rio",
    "O21pFpJr6Rip",
    "w3hxayOM6RjH",
    "jbRv0HA66RjK",
    "zlThoa_96RjO",
    "7XVSRF0j6RjW",
    "kpzl-_-V6RjZ",
    "oJ2pZipE6Rjm",
    "MPwnGxaW6Rjr",
    "00-x3oBT6Rjw",
    "I632qu8J6Rj2",
    "oqD2SBPn6Rj5",
    "G2ZZnDsA6Rj_",
    "_cihuGmk6RkJ",
    "PZKCgTkA6RkP",
    "MDmEcntv6RkT",
    "er38doaK6RkW",
    "xQ2POulP6Rkg",
    "IRtC82bj6Rkn",
    "24YnUp0a6Rkp",
    "Heua8YPs6Rkt",
    "q9IlLtkI6Rkv",
    "-7DI8r5r6Rkx",
    "rGPjYiJV6Rk0",
    "sG_XfVl16Rk4",
    "q496V9Fu6Rk7",
    "MiMHqCL06Rk_",
    "5NMd84ar6RlD"
   ],
   "machine_shape": "hm",
   "name": "Gol",
   "provenance": []
  },
  "kernelspec": {
   "display_name": "Python 3",
   "language": "python",
   "name": "python3"
  },
  "language_info": {
   "codemirror_mode": {
    "name": "ipython",
    "version": 3
   },
   "file_extension": ".py",
   "mimetype": "text/x-python",
   "name": "python",
   "nbconvert_exporter": "python",
   "pygments_lexer": "ipython3",
   "version": "3.7.2"
  }
 },
 "nbformat": 4,
 "nbformat_minor": 0
}
